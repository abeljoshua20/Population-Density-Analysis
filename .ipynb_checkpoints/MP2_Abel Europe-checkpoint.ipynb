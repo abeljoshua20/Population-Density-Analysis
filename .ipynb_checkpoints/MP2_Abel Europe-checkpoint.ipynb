{
 "cells": [
  {
   "cell_type": "code",
   "execution_count": 28,
   "metadata": {
    "ExecuteTime": {
     "end_time": "2020-11-29T06:31:12.985479Z",
     "start_time": "2020-11-29T06:31:12.979483Z"
    }
   },
   "outputs": [],
   "source": [
    "import matplotlib as plt\n",
    "import seaborn as sns\n",
    "import pandas as pd\n",
    "import matplotlib as mpl\n",
    "import dask.dataframe as dd\n",
    "from asyncio import CancelledError\n",
    "from dask.delayed import delayed\n",
    "from dask.distributed import Client\n",
    "from cycler import cycler\n",
    "from IPython.display import clear_output"
   ]
  },
  {
   "cell_type": "code",
   "execution_count": 2,
   "metadata": {
    "ExecuteTime": {
     "end_time": "2020-11-29T06:05:24.267093Z",
     "start_time": "2020-11-29T06:05:24.260731Z"
    }
   },
   "outputs": [],
   "source": [
    "default_colors = ['#00c6ff', '#0078ff', '#dd2a7b']\n",
    "mpl.rcParams['axes.prop_cycle'] = cycler('color', default_colors)\n",
    "plt.rcParams['axes.labelsize'] = 20\n",
    "plt.rcParams['axes.titlesize'] = 18\n",
    "plt.rcParams['axes.titleweight'] = 'bold'\n",
    "plt.rcParams['figure.titlesize'] = 22\n",
    "plt.rcParams['xtick.labelsize'] = 10\n",
    "plt.rcParams['ytick.labelsize'] = 10\n",
    "plt.rcParams['legend.fontsize'] = 10\n",
    "plt.rcParams['legend.title_fontsize'] = 18\n",
    "\n",
    "# pd.set_option('display.max_colwidth', None)"
   ]
  },
  {
   "cell_type": "markdown",
   "metadata": {},
   "source": [
    "# Data Extraction"
   ]
  },
  {
   "cell_type": "markdown",
   "metadata": {},
   "source": [
    "## Dask Distributed Cluster"
   ]
  },
  {
   "cell_type": "code",
   "execution_count": 13,
   "metadata": {
    "ExecuteTime": {
     "end_time": "2020-11-29T06:12:06.006419Z",
     "start_time": "2020-11-29T06:12:05.993340Z"
    }
   },
   "outputs": [],
   "source": [
    "client = Client('172.31.47.101:8786')"
   ]
  },
  {
   "cell_type": "code",
   "execution_count": 14,
   "metadata": {
    "ExecuteTime": {
     "end_time": "2020-11-29T06:12:06.019509Z",
     "start_time": "2020-11-29T06:12:06.010423Z"
    }
   },
   "outputs": [
    {
     "data": {
      "text/html": [
       "<table style=\"border: 2px solid white;\">\n",
       "<tr>\n",
       "<td style=\"vertical-align: top; border: 0px solid white\">\n",
       "<h3 style=\"text-align: left;\">Client</h3>\n",
       "<ul style=\"text-align: left; list-style: none; margin: 0; padding: 0;\">\n",
       "  <li><b>Scheduler: </b>tcp://172.31.47.101:8786</li>\n",
       "  <li><b>Dashboard: </b><a href='http://172.31.47.101:8787/status' target='_blank'>http://172.31.47.101:8787/status</a></li>\n",
       "</ul>\n",
       "</td>\n",
       "<td style=\"vertical-align: top; border: 0px solid white\">\n",
       "<h3 style=\"text-align: left;\">Cluster</h3>\n",
       "<ul style=\"text-align: left; list-style:none; margin: 0; padding: 0;\">\n",
       "  <li><b>Workers: </b>3</li>\n",
       "  <li><b>Cores: </b>6</li>\n",
       "  <li><b>Memory: </b>25.04 GB</li>\n",
       "</ul>\n",
       "</td>\n",
       "</tr>\n",
       "</table>"
      ],
      "text/plain": [
       "<Client: 'tcp://172.31.47.101:8786' processes=3 threads=6, memory=25.04 GB>"
      ]
     },
     "execution_count": 14,
     "metadata": {},
     "output_type": "execute_result"
    }
   ],
   "source": [
    "client"
   ]
  },
  {
   "cell_type": "code",
   "execution_count": 21,
   "metadata": {
    "ExecuteTime": {
     "end_time": "2020-11-29T06:21:53.923141Z",
     "start_time": "2020-11-29T06:21:53.918533Z"
    }
   },
   "outputs": [],
   "source": [
    "def get_path(country):\n",
    "    \"\"\"Return country CSV S3 path\"\"\"\n",
    "    return dict(total_pop=('s3://dataforgood-fb-data/csv/month=2019-06'\n",
    "                           f'/country={country}/type=total_population'\n",
    "                           f'/{country}_total_population.csv.gz'),\n",
    "                child=('s3://dataforgood-fb-data/csv/month=2019-06'\n",
    "                             f'/country={country}/type=children_under_five'\n",
    "                             f'/{country}_children_under_five.csv.gz'),\n",
    "                elder=('s3://dataforgood-fb-data/csv/month=2019-06'\n",
    "                               f'/country={country}/type=elderly_60_plus'\n",
    "                               f'/{country}_elderly_60_plus.csv.gz'),\n",
    "                men=('s3://dataforgood-fb-data/csv/month=2019-06'\n",
    "                     f'/country={country}/type=men'\n",
    "                     f'/{country}_men.csv.gz'),\n",
    "                women=('s3://dataforgood-fb-data/csv/month=2019-06'\n",
    "                       f'/country={country}/type=women'\n",
    "                       f'/{country}_women.csv.gz'),\n",
    "                reprod=('s3://dataforgood-fb-data/csv/month=2019-06'\n",
    "                        f'/country={country}'\n",
    "                        '/type=women_of_reproductive_age_15_49'\n",
    "                        f'/{country}_women_of_'\n",
    "                        'reproductive_age_15_49.csv.gz'),\n",
    "                youth=('s3://dataforgood-fb-data/csv/month=2019-06'\n",
    "                        f'/country={country}/type=youth_15_24'\n",
    "                        f'/{country}_youth_15_24.csv.gz')\n",
    "            )"
   ]
  },
  {
   "cell_type": "code",
   "execution_count": 16,
   "metadata": {
    "ExecuteTime": {
     "end_time": "2020-11-29T06:13:09.244382Z",
     "start_time": "2020-11-29T06:13:09.240102Z"
    },
    "code_folding": [
     1
    ]
   },
   "outputs": [],
   "source": [
    "# List of countries to analyze\n",
    "countries = ['DEU',\n",
    "             'GBR',\n",
    "             'FRA',\n",
    "             'ITA',\n",
    "             'ESP',\n",
    "             'PRT',\n",
    "             'CHE',\n",
    "             'GRC',\n",
    "             'NLD',\n",
    "             'POL',\n",
    "             'BEL',\n",
    "             'AUT',\n",
    "             'ISL',\n",
    "             'HRV',\n",
    "             'CZE',\n",
    "             'ROU',\n",
    "             'UKR',\n",
    "             'HUN',\n",
    "             'ALB',\n",
    "             'SVK',\n",
    "             'MNE',\n",
    "             'MDA',\n",
    "             'SRB',\n",
    "             'BLR']"
   ]
  },
  {
   "cell_type": "code",
   "execution_count": 17,
   "metadata": {
    "ExecuteTime": {
     "end_time": "2020-11-29T06:13:11.201163Z",
     "start_time": "2020-11-29T06:13:11.195995Z"
    }
   },
   "outputs": [],
   "source": [
    "df_countries_child = dict()\n",
    "df_countries_youth = dict()\n",
    "df_countries_elder = dict()"
   ]
  },
  {
   "cell_type": "markdown",
   "metadata": {},
   "source": [
    "# Data Extraction"
   ]
  },
  {
   "cell_type": "markdown",
   "metadata": {},
   "source": [
    "## Child"
   ]
  },
  {
   "cell_type": "code",
   "execution_count": 18,
   "metadata": {
    "ExecuteTime": {
     "end_time": "2020-11-29T06:17:16.328614Z",
     "start_time": "2020-11-29T06:13:21.820294Z"
    },
    "scrolled": true
   },
   "outputs": [
    {
     "name": "stdout",
     "output_type": "stream",
     "text": [
      "Extracting data from DEU\n",
      "Converting to DataFrame DEU\n",
      "Repartition DEU\n",
      "Extracting data from GBR\n",
      "Converting to DataFrame GBR\n",
      "Repartition GBR\n",
      "Extracting data from FRA\n",
      "Converting to DataFrame FRA\n",
      "Repartition FRA\n",
      "Extracting data from ITA\n",
      "Converting to DataFrame ITA\n",
      "Repartition ITA\n",
      "Extracting data from ESP\n",
      "Converting to DataFrame ESP\n",
      "Repartition ESP\n",
      "Extracting data from PRT\n",
      "Converting to DataFrame PRT\n",
      "Repartition PRT\n",
      "Extracting data from CHE\n",
      "Converting to DataFrame CHE\n",
      "Repartition CHE\n",
      "Extracting data from GRC\n",
      "Converting to DataFrame GRC\n",
      "Repartition GRC\n",
      "Extracting data from NLD\n",
      "Converting to DataFrame NLD\n",
      "Repartition NLD\n",
      "Extracting data from POL\n",
      "Converting to DataFrame POL\n",
      "Repartition POL\n",
      "Extracting data from BEL\n",
      "Converting to DataFrame BEL\n",
      "Repartition BEL\n",
      "Extracting data from AUT\n",
      "Converting to DataFrame AUT\n",
      "Repartition AUT\n",
      "Extracting data from ISL\n",
      "Converting to DataFrame ISL\n",
      "Repartition ISL\n",
      "Extracting data from HRV\n",
      "Converting to DataFrame HRV\n",
      "Repartition HRV\n",
      "Extracting data from CZE\n",
      "Converting to DataFrame CZE\n",
      "Repartition CZE\n",
      "Extracting data from ROU\n",
      "Converting to DataFrame ROU\n",
      "Repartition ROU\n",
      "Extracting data from UKR\n",
      "Converting to DataFrame UKR\n",
      "Repartition UKR\n",
      "Extracting data from HUN\n",
      "Converting to DataFrame HUN\n",
      "Repartition HUN\n",
      "Extracting data from ALB\n",
      "Converting to DataFrame ALB\n",
      "Repartition ALB\n",
      "Extracting data from SVK\n",
      "Converting to DataFrame SVK\n",
      "Repartition SVK\n",
      "Extracting data from MNE\n",
      "Converting to DataFrame MNE\n",
      "Repartition MNE\n",
      "Extracting data from MDA\n",
      "Converting to DataFrame MDA\n",
      "Repartition MDA\n",
      "Extracting data from SRB\n",
      "Converting to DataFrame SRB\n",
      "Repartition SRB\n",
      "Extracting data from BLR\n",
      "Converting to DataFrame BLR\n",
      "Repartition BLR\n"
     ]
    }
   ],
   "source": [
    "for country in countries:\n",
    "    print('Extracting data from {}'.format(country))\n",
    "    dfs_child = [delayed(pd.read_csv)(get_path(country)['child'],\n",
    "                                     encoding='utf-8', sep='\\t',\n",
    "                                     compression='gzip')]\n",
    "    print('Converting to DataFrame {}'.format(country))\n",
    "    \n",
    "    try:\n",
    "        df_child = dd.from_delayed(dfs_child)\n",
    "    except CancelledError:\n",
    "        df_child = dd.from_delayed(dfs_child)\n",
    "        \n",
    "    print('Repartition {}'.format(country))\n",
    "    df_child = df_child.repartition(npartitions=100)\n",
    "    df_countries_child[country] = df_child\n",
    "    del dfs_child\n",
    "    del df_child\n",
    "clear_output()\n",
    "print('Done')"
   ]
  },
  {
   "cell_type": "markdown",
   "metadata": {},
   "source": [
    "## Youth"
   ]
  },
  {
   "cell_type": "code",
   "execution_count": 19,
   "metadata": {
    "ExecuteTime": {
     "end_time": "2020-11-29T06:21:13.460152Z",
     "start_time": "2020-11-29T06:17:16.453600Z"
    },
    "code_folding": []
   },
   "outputs": [
    {
     "name": "stdout",
     "output_type": "stream",
     "text": [
      "Extracting data from DEU\n",
      "Converting to DataFrame DEU\n",
      "Repartition DEU\n",
      "Extracting data from GBR\n",
      "Converting to DataFrame GBR\n",
      "Repartition GBR\n",
      "Extracting data from FRA\n",
      "Converting to DataFrame FRA\n",
      "Repartition FRA\n",
      "Extracting data from ITA\n",
      "Converting to DataFrame ITA\n",
      "Repartition ITA\n",
      "Extracting data from ESP\n",
      "Converting to DataFrame ESP\n",
      "Repartition ESP\n",
      "Extracting data from PRT\n",
      "Converting to DataFrame PRT\n",
      "Repartition PRT\n",
      "Extracting data from CHE\n",
      "Converting to DataFrame CHE\n",
      "Repartition CHE\n",
      "Extracting data from GRC\n",
      "Converting to DataFrame GRC\n",
      "Repartition GRC\n",
      "Extracting data from NLD\n",
      "Converting to DataFrame NLD\n",
      "Repartition NLD\n",
      "Extracting data from POL\n",
      "Converting to DataFrame POL\n",
      "Repartition POL\n",
      "Extracting data from BEL\n",
      "Converting to DataFrame BEL\n",
      "Repartition BEL\n",
      "Extracting data from AUT\n",
      "Converting to DataFrame AUT\n",
      "Repartition AUT\n",
      "Extracting data from ISL\n",
      "Converting to DataFrame ISL\n",
      "Repartition ISL\n",
      "Extracting data from HRV\n",
      "Converting to DataFrame HRV\n",
      "Repartition HRV\n",
      "Extracting data from CZE\n",
      "Converting to DataFrame CZE\n",
      "Repartition CZE\n",
      "Extracting data from ROU\n",
      "Converting to DataFrame ROU\n",
      "Repartition ROU\n",
      "Extracting data from UKR\n",
      "Converting to DataFrame UKR\n",
      "Repartition UKR\n",
      "Extracting data from HUN\n",
      "Converting to DataFrame HUN\n",
      "Repartition HUN\n",
      "Extracting data from ALB\n",
      "Converting to DataFrame ALB\n",
      "Repartition ALB\n",
      "Extracting data from SVK\n",
      "Converting to DataFrame SVK\n",
      "Repartition SVK\n",
      "Extracting data from MNE\n",
      "Converting to DataFrame MNE\n",
      "Repartition MNE\n",
      "Extracting data from MDA\n",
      "Converting to DataFrame MDA\n",
      "Repartition MDA\n",
      "Extracting data from SRB\n",
      "Converting to DataFrame SRB\n",
      "Repartition SRB\n",
      "Extracting data from BLR\n",
      "Converting to DataFrame BLR\n",
      "Repartition BLR\n"
     ]
    }
   ],
   "source": [
    "for country in countries:\n",
    "    print('Extracting data from {}'.format(country))\n",
    "    dfs_youth = [delayed(pd.read_csv)(get_path(country)['youth'],\n",
    "                                     encoding='utf-8', sep='\\t',\n",
    "                                     compression='gzip')]\n",
    "    print('Converting to DataFrame {}'.format(country))\n",
    "    \n",
    "    try:\n",
    "        df_youth = dd.from_delayed(dfs_youth)\n",
    "    except CancelledError:\n",
    "        df_youth = dd.from_delayed(dfs_youth)\n",
    "        \n",
    "    print('Repartition {}'.format(country))\n",
    "    df_youth = df_youth.repartition(npartitions=100)\n",
    "    df_countries_youth[country] = df_youth\n",
    "    del dfs_youth\n",
    "    del df_youth"
   ]
  },
  {
   "cell_type": "markdown",
   "metadata": {},
   "source": [
    "## Elder"
   ]
  },
  {
   "cell_type": "code",
   "execution_count": 22,
   "metadata": {
    "ExecuteTime": {
     "end_time": "2020-11-29T06:25:59.364593Z",
     "start_time": "2020-11-29T06:21:59.639735Z"
    },
    "code_folding": [],
    "scrolled": true
   },
   "outputs": [
    {
     "name": "stdout",
     "output_type": "stream",
     "text": [
      "Extracting data from DEU\n",
      "Converting to DataFrame DEU\n",
      "Repartition DEU\n",
      "Extracting data from GBR\n",
      "Converting to DataFrame GBR\n",
      "Repartition GBR\n",
      "Extracting data from FRA\n",
      "Converting to DataFrame FRA\n",
      "Repartition FRA\n",
      "Extracting data from ITA\n",
      "Converting to DataFrame ITA\n",
      "Repartition ITA\n",
      "Extracting data from ESP\n",
      "Converting to DataFrame ESP\n",
      "Repartition ESP\n",
      "Extracting data from PRT\n",
      "Converting to DataFrame PRT\n",
      "Repartition PRT\n",
      "Extracting data from CHE\n",
      "Converting to DataFrame CHE\n",
      "Repartition CHE\n",
      "Extracting data from GRC\n",
      "Converting to DataFrame GRC\n",
      "Repartition GRC\n",
      "Extracting data from NLD\n",
      "Converting to DataFrame NLD\n",
      "Repartition NLD\n",
      "Extracting data from POL\n",
      "Converting to DataFrame POL\n",
      "Repartition POL\n",
      "Extracting data from BEL\n",
      "Converting to DataFrame BEL\n",
      "Repartition BEL\n",
      "Extracting data from AUT\n",
      "Converting to DataFrame AUT\n",
      "Repartition AUT\n",
      "Extracting data from ISL\n",
      "Converting to DataFrame ISL\n",
      "Repartition ISL\n",
      "Extracting data from HRV\n",
      "Converting to DataFrame HRV\n",
      "Repartition HRV\n",
      "Extracting data from CZE\n",
      "Converting to DataFrame CZE\n",
      "Repartition CZE\n",
      "Extracting data from ROU\n",
      "Converting to DataFrame ROU\n",
      "Repartition ROU\n",
      "Extracting data from UKR\n",
      "Converting to DataFrame UKR\n",
      "Repartition UKR\n",
      "Extracting data from HUN\n",
      "Converting to DataFrame HUN\n",
      "Repartition HUN\n",
      "Extracting data from ALB\n",
      "Converting to DataFrame ALB\n",
      "Repartition ALB\n",
      "Extracting data from SVK\n",
      "Converting to DataFrame SVK\n",
      "Repartition SVK\n",
      "Extracting data from MNE\n",
      "Converting to DataFrame MNE\n",
      "Repartition MNE\n",
      "Extracting data from MDA\n",
      "Converting to DataFrame MDA\n",
      "Repartition MDA\n",
      "Extracting data from SRB\n",
      "Converting to DataFrame SRB\n",
      "Repartition SRB\n",
      "Extracting data from BLR\n",
      "Converting to DataFrame BLR\n",
      "Repartition BLR\n"
     ]
    }
   ],
   "source": [
    "for country in countries:\n",
    "    print('Extracting data from {}'.format(country))\n",
    "    dfs_elder = [delayed(pd.read_csv)(get_path(country)['elder'],\n",
    "                                     encoding='utf-8', sep='\\t',\n",
    "                                     compression='gzip')]\n",
    "    print('Converting to DataFrame {}'.format(country))\n",
    "    \n",
    "    try:\n",
    "        df_elder = dd.from_delayed(dfs_elder)\n",
    "    except CancelledError:\n",
    "        df_elder = dd.from_delayed(dfs_elder)\n",
    "        \n",
    "    print('Repartition {}'.format(country))\n",
    "    df_elder = df_elder.repartition(npartitions=100)\n",
    "    df_countries_elder[country] = df_elder\n",
    "    del dfs_elder\n",
    "    del df_elder"
   ]
  },
  {
   "cell_type": "markdown",
   "metadata": {},
   "source": [
    "# Data Preprocessing"
   ]
  },
  {
   "cell_type": "markdown",
   "metadata": {},
   "source": [
    "Merge all the datasets per category to compare different countries."
   ]
  },
  {
   "cell_type": "code",
   "execution_count": 24,
   "metadata": {
    "ExecuteTime": {
     "end_time": "2020-11-29T06:27:33.846999Z",
     "start_time": "2020-11-29T06:27:33.834726Z"
    }
   },
   "outputs": [
    {
     "data": {
      "text/html": [
       "<div><strong>Dask DataFrame Structure:</strong></div>\n",
       "<div>\n",
       "<style scoped>\n",
       "    .dataframe tbody tr th:only-of-type {\n",
       "        vertical-align: middle;\n",
       "    }\n",
       "\n",
       "    .dataframe tbody tr th {\n",
       "        vertical-align: top;\n",
       "    }\n",
       "\n",
       "    .dataframe thead th {\n",
       "        text-align: right;\n",
       "    }\n",
       "</style>\n",
       "<table border=\"1\" class=\"dataframe\">\n",
       "  <thead>\n",
       "    <tr style=\"text-align: right;\">\n",
       "      <th></th>\n",
       "      <th>latitude</th>\n",
       "      <th>longitude</th>\n",
       "      <th>population</th>\n",
       "    </tr>\n",
       "    <tr>\n",
       "      <th>npartitions=100</th>\n",
       "      <th></th>\n",
       "      <th></th>\n",
       "      <th></th>\n",
       "    </tr>\n",
       "  </thead>\n",
       "  <tbody>\n",
       "    <tr>\n",
       "      <th></th>\n",
       "      <td>float64</td>\n",
       "      <td>float64</td>\n",
       "      <td>float64</td>\n",
       "    </tr>\n",
       "    <tr>\n",
       "      <th></th>\n",
       "      <td>...</td>\n",
       "      <td>...</td>\n",
       "      <td>...</td>\n",
       "    </tr>\n",
       "    <tr>\n",
       "      <th>...</th>\n",
       "      <td>...</td>\n",
       "      <td>...</td>\n",
       "      <td>...</td>\n",
       "    </tr>\n",
       "    <tr>\n",
       "      <th></th>\n",
       "      <td>...</td>\n",
       "      <td>...</td>\n",
       "      <td>...</td>\n",
       "    </tr>\n",
       "    <tr>\n",
       "      <th></th>\n",
       "      <td>...</td>\n",
       "      <td>...</td>\n",
       "      <td>...</td>\n",
       "    </tr>\n",
       "  </tbody>\n",
       "</table>\n",
       "</div>\n",
       "<div>Dask Name: repartition, 103 tasks</div>"
      ],
      "text/plain": [
       "Dask DataFrame Structure:\n",
       "                latitude longitude population\n",
       "npartitions=100                              \n",
       "                 float64   float64    float64\n",
       "                     ...       ...        ...\n",
       "...                  ...       ...        ...\n",
       "                     ...       ...        ...\n",
       "                     ...       ...        ...\n",
       "Dask Name: repartition, 103 tasks"
      ]
     },
     "execution_count": 24,
     "metadata": {},
     "output_type": "execute_result"
    }
   ],
   "source": [
    "df_countries_elder['POL']"
   ]
  },
  {
   "cell_type": "code",
   "execution_count": null,
   "metadata": {},
   "outputs": [],
   "source": []
  }
 ],
 "metadata": {
  "kernelspec": {
   "display_name": "Python 3",
   "language": "python",
   "name": "python3"
  },
  "language_info": {
   "codemirror_mode": {
    "name": "ipython",
    "version": 3
   },
   "file_extension": ".py",
   "mimetype": "text/x-python",
   "name": "python",
   "nbconvert_exporter": "python",
   "pygments_lexer": "ipython3",
   "version": "3.8.5"
  },
  "toc": {
   "base_numbering": 1,
   "nav_menu": {},
   "number_sections": true,
   "sideBar": true,
   "skip_h1_title": false,
   "title_cell": "Table of Contents",
   "title_sidebar": "Contents",
   "toc_cell": false,
   "toc_position": {},
   "toc_section_display": true,
   "toc_window_display": false
  },
  "varInspector": {
   "cols": {
    "lenName": 16,
    "lenType": 16,
    "lenVar": 40
   },
   "kernels_config": {
    "python": {
     "delete_cmd_postfix": "",
     "delete_cmd_prefix": "del ",
     "library": "var_list.py",
     "varRefreshCmd": "print(var_dic_list())"
    },
    "r": {
     "delete_cmd_postfix": ") ",
     "delete_cmd_prefix": "rm(",
     "library": "var_list.r",
     "varRefreshCmd": "cat(var_dic_list()) "
    }
   },
   "position": {
    "height": "429px",
    "left": "1565px",
    "right": "20px",
    "top": "123px",
    "width": "350px"
   },
   "types_to_exclude": [
    "module",
    "function",
    "builtin_function_or_method",
    "instance",
    "_Feature"
   ],
   "window_display": true
  }
 },
 "nbformat": 4,
 "nbformat_minor": 4
}

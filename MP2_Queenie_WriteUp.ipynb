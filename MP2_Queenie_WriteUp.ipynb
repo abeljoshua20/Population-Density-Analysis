{
 "cells": [
  {
   "cell_type": "code",
   "execution_count": 34,
   "metadata": {
    "ExecuteTime": {
     "end_time": "2020-11-30T09:10:33.650224Z",
     "start_time": "2020-11-30T09:10:33.646444Z"
    }
   },
   "outputs": [],
   "source": [
    "import matplotlib.pyplot as plt\n",
    "import pandas as pd\n",
    "import matplotlib as mpl\n",
    "import dask.dataframe as dd\n",
    "from asyncio import CancelledError\n",
    "from dask.delayed import delayed\n",
    "from dask.distributed import Client\n",
    "from cycler import cycler\n",
    "from IPython.display import clear_output\n",
    "import matplotlib.gridspec as gridspec\n",
    "import pickle\n",
    "import warnings\n",
    "import geopandas as gpd\n",
    "from keplergl import KeplerGl\n",
    "from shapely.geometry import Point, Polygon \n",
    "from IPython.display import IFrame"
   ]
  },
  {
   "cell_type": "code",
   "execution_count": 2,
   "metadata": {
    "ExecuteTime": {
     "end_time": "2020-11-30T08:20:38.243322Z",
     "start_time": "2020-11-30T08:20:38.238903Z"
    }
   },
   "outputs": [],
   "source": [
    "default_colors = ['#00c6ff', '#0078ff', '#dd2a7b']\n",
    "mpl.rcParams['axes.prop_cycle'] = cycler('color', default_colors)\n",
    "plt.rcParams['axes.labelsize'] = 20\n",
    "plt.rcParams['axes.titlesize'] = 18\n",
    "plt.rcParams['axes.titleweight'] = 'bold'\n",
    "plt.rcParams['figure.titlesize'] = 22\n",
    "plt.rcParams['xtick.labelsize'] = 10\n",
    "plt.rcParams['ytick.labelsize'] = 10\n",
    "plt.rcParams['legend.fontsize'] = 10\n",
    "plt.rcParams['legend.title_fontsize'] = 18\n",
    "\n",
    "# pd.set_option('display.max_colwidth', None)"
   ]
  },
  {
   "cell_type": "markdown",
   "metadata": {},
   "source": [
    "## 1 Executive Summary"
   ]
  },
  {
   "cell_type": "markdown",
   "metadata": {},
   "source": [
    "As years passed by, technology is becoming more and more advanced. Today, social media have become a staple in people's everyday lives and become one of the main methods of social connection and interaction around the world [1]. Among the social media platforms, Facebook is popular among people. In 2020, the expected number of Facebook users would reach around 1.69 billion [3]. With the huge user base of Facebook, it serves as a mode of communication and obtaining information about friends and family and the local and national issues. Facebook also serves as an important channel for businesses in terms of marketing and advertising.\n",
    "\n",
    "With the facts mentioned above, the group answered the question **\"What is the distribution of Facebook users' population density across European countries?\"**. In answering this question, the group had analyzed the high population density dataset amounting to over 8.12 Gb. To handle a large amount of data surpassing the local machine/client's memory capability, the group had used distributed dask clustering. Here are the steps we took to answer this question:\n",
    "\n",
    "1. Extracted data from https://registry.opendata.aws/dataforgood-fb-hrsl/. The group had chosen 24 European countries.\n",
    "2. Processed data such as feature engineering and merging of columns\n",
    "3. Performed exploratory data analysis\n",
    "\n",
    "The team identified that Germany has the highest overall population of Facebook users compared to other European countries. Germany also has the highest population size of men, women, elderly, and youth. The United Kingdom has the highest population size of child Facebook users, for it has the highest population growth rate/fertility rate out of all the European countries.\n",
    "\n",
    "Possible extensions of the study that we had identified are the following:\n",
    "\n",
    "1. Decreasing the area of population density (lower sqm) would help to more detailed recommendations to each local government unit\n",
    "\n",
    "2. Analyze other European countries such as Iceland and Montenegro \n",
    "\n",
    "3. Consider other external datasets to acquire more information, such as each county/local government unit's occupations and industries, to give better recommendations.\n",
    "\n",
    "The varying scope of applications of Facebook has an impact on both society and government, such as mode of communication, marketing, advertising, and lastly, policy recommendations. We hope that the further extension of the study would help give better recommendations to businesses or government units and provide valuable insights on some European countries."
   ]
  },
  {
   "cell_type": "markdown",
   "metadata": {},
   "source": [
    "## 2 Introduction"
   ]
  },
  {
   "cell_type": "markdown",
   "metadata": {},
   "source": [
    "Social media focused on building social networks and relations among people with shared interests [1]. Among the social media platforms, Facebook is one of the most popular. In the first quarter of 2015, there are around 1.44 billion active users of Facebook [2].  Statistics had also showed that in 2020, the expected number of Facebook users would reach 1.69 billion [3]. Nowadays, people tend to reach some of the most significant news through Facebook and it also served as as tool for organization of events [2]. Facebook lead to a wider scope of applications with increasing global impact on society and government [1]. The team wants to analyze the distribution of the population density of Facebook users across European countries and create recommendations."
   ]
  },
  {
   "cell_type": "markdown",
   "metadata": {},
   "source": [
    "## 3 Data"
   ]
  },
  {
   "cell_type": "markdown",
   "metadata": {},
   "source": [
    "### 3.1 Data Description"
   ]
  },
  {
   "cell_type": "markdown",
   "metadata": {},
   "source": [
    "### 3.2 Data Extraction"
   ]
  },
  {
   "cell_type": "code",
   "execution_count": 3,
   "metadata": {
    "ExecuteTime": {
     "end_time": "2020-11-30T08:20:56.693099Z",
     "start_time": "2020-11-30T08:20:56.677152Z"
    }
   },
   "outputs": [
    {
     "name": "stderr",
     "output_type": "stream",
     "text": [
      "/opt/conda/lib/python3.8/site-packages/distributed/client.py:1129: VersionMismatchWarning: Mismatched versions found\n",
      "\n",
      "+---------+---------------+---------------+---------------+\n",
      "| Package | client        | scheduler     | workers       |\n",
      "+---------+---------------+---------------+---------------+\n",
      "| python  | 3.8.2.final.0 | 3.8.2.final.0 | 3.8.5.final.0 |\n",
      "+---------+---------------+---------------+---------------+\n",
      "  warnings.warn(version_module.VersionMismatchWarning(msg[0][\"warning\"]))\n"
     ]
    }
   ],
   "source": [
    "client = Client('172.31.27.218:8786')"
   ]
  },
  {
   "cell_type": "code",
   "execution_count": 4,
   "metadata": {
    "ExecuteTime": {
     "end_time": "2020-11-30T08:20:58.408439Z",
     "start_time": "2020-11-30T08:20:58.398150Z"
    }
   },
   "outputs": [
    {
     "data": {
      "text/html": [
       "<table style=\"border: 2px solid white;\">\n",
       "<tr>\n",
       "<td style=\"vertical-align: top; border: 0px solid white\">\n",
       "<h3 style=\"text-align: left;\">Client</h3>\n",
       "<ul style=\"text-align: left; list-style: none; margin: 0; padding: 0;\">\n",
       "  <li><b>Scheduler: </b>tcp://172.31.27.218:8786</li>\n",
       "  <li><b>Dashboard: </b><a href='http://172.31.27.218:8787/status' target='_blank'>http://172.31.27.218:8787/status</a></li>\n",
       "</ul>\n",
       "</td>\n",
       "<td style=\"vertical-align: top; border: 0px solid white\">\n",
       "<h3 style=\"text-align: left;\">Cluster</h3>\n",
       "<ul style=\"text-align: left; list-style:none; margin: 0; padding: 0;\">\n",
       "  <li><b>Workers: </b>3</li>\n",
       "  <li><b>Cores: </b>6</li>\n",
       "  <li><b>Memory: </b>25.04 GB</li>\n",
       "</ul>\n",
       "</td>\n",
       "</tr>\n",
       "</table>"
      ],
      "text/plain": [
       "<Client: 'tcp://172.31.27.218:8786' processes=3 threads=6, memory=25.04 GB>"
      ]
     },
     "execution_count": 4,
     "metadata": {},
     "output_type": "execute_result"
    }
   ],
   "source": [
    "client"
   ]
  },
  {
   "cell_type": "code",
   "execution_count": 5,
   "metadata": {
    "ExecuteTime": {
     "end_time": "2020-11-30T08:21:00.255489Z",
     "start_time": "2020-11-30T08:21:00.248922Z"
    }
   },
   "outputs": [],
   "source": [
    "def get_path(country):\n",
    "    \"\"\"Return country CSV path\"\"\"\n",
    "    return dict(total_pop=('s3://dataforgood-fb-data/csv/month=2019-06'\n",
    "                           f'/country={country}/type=total_population'\n",
    "                           f'/{country}_total_population.csv.gz'),\n",
    "                child=('s3://dataforgood-fb-data/csv/month=2019-06'\n",
    "                       f'/country={country}/type=children_under_five'\n",
    "                       f'/{country}_children_under_five.csv.gz'),\n",
    "                elder=('s3://dataforgood-fb-data/csv/month=2019-06'\n",
    "                       f'/country={country}/type=elderly_60_plus'\n",
    "                       f'/{country}_elderly_60_plus.csv.gz'),\n",
    "                men=('s3://dataforgood-fb-data/csv/month=2019-06'\n",
    "                     f'/country={country}/type=men'\n",
    "                     f'/{country}_men.csv.gz'),\n",
    "                women=('s3://dataforgood-fb-data/csv/month=2019-06'\n",
    "                       f'/country={country}/type=women'\n",
    "                       f'/{country}_women.csv.gz'),\n",
    "                reprod=('s3://dataforgood-fb-data/csv/month=2019-06'\n",
    "                        f'/country={country}'\n",
    "                        '/type=women_of_reproductive_age_15_49'\n",
    "                        f'/{country}_women_of_'\n",
    "                        'reproductive_age_15_49.csv.gz'),\n",
    "                youth=('s3://dataforgood-fb-data/csv/month=2019-06'\n",
    "                       f'/country={country}/type=youth_15_24'\n",
    "                       f'/{country}_youth_15_24.csv.gz')\n",
    "                )"
   ]
  },
  {
   "cell_type": "code",
   "execution_count": 6,
   "metadata": {
    "ExecuteTime": {
     "end_time": "2020-11-30T08:21:01.689606Z",
     "start_time": "2020-11-30T08:21:01.683952Z"
    },
    "code_folding": [
     0
    ]
   },
   "outputs": [],
   "source": [
    "countries = ['GBR',\n",
    "             'FRA',\n",
    "             'ITA',\n",
    "             'ESP',\n",
    "             'PRT',\n",
    "             'CHE',\n",
    "             'GRC',\n",
    "             'DEU',\n",
    "             'NLD',\n",
    "             'POL',\n",
    "             'BEL',\n",
    "             'AUT',\n",
    "             'ISL',\n",
    "             'HRV',\n",
    "             'CZE',\n",
    "             'ROU',\n",
    "             'UKR',\n",
    "             'HUN',\n",
    "             'ALB',\n",
    "             'SVK',\n",
    "             'MNE',\n",
    "             'MDA',\n",
    "             'SRB',\n",
    "             'BLR']"
   ]
  },
  {
   "cell_type": "code",
   "execution_count": 7,
   "metadata": {
    "ExecuteTime": {
     "end_time": "2020-11-30T08:21:02.314968Z",
     "start_time": "2020-11-30T08:21:02.312298Z"
    }
   },
   "outputs": [],
   "source": [
    "df_countries_total_pop = dict()\n",
    "df_countries_men = dict()\n",
    "df_countries_women = dict()"
   ]
  },
  {
   "cell_type": "markdown",
   "metadata": {},
   "source": [
    "#### 3.2.1 Total Population"
   ]
  },
  {
   "cell_type": "code",
   "execution_count": 12,
   "metadata": {
    "ExecuteTime": {
     "end_time": "2020-11-30T07:24:39.643755Z",
     "start_time": "2020-11-30T07:24:39.640661Z"
    }
   },
   "outputs": [],
   "source": [
    "for country in countries:\n",
    "    print('Extracting data from {}'.format(country))\n",
    "    dfs_total_pop = [delayed(pd.read_csv)(get_path(country)['total_pop'],\n",
    "                                          encoding='utf-8', sep='\\t',\n",
    "                                          compression='gzip')]\n",
    "    print('Converting to DataFrame {}'.format(country))\n",
    "\n",
    "    try:\n",
    "        df_total_pop = dd.from_delayed(dfs_total_pop)\n",
    "    except CancelledError:\n",
    "        df_total_pop = dd.from_delayed(dfs_total_pop)\n",
    "\n",
    "    print('Repartition {}'.format(country))\n",
    "    df_total_pop = df_total_pop.repartition(npartitions=100)\n",
    "    df_countries_total_pop[country] = df_total_pop\n",
    "\n",
    "    del dfs_total_pop\n",
    "    del df_total_pop\n",
    "\n",
    "clear_output()\n",
    "print('Done')"
   ]
  },
  {
   "cell_type": "markdown",
   "metadata": {},
   "source": [
    "#### 3.2.2 Women"
   ]
  },
  {
   "cell_type": "code",
   "execution_count": 12,
   "metadata": {
    "ExecuteTime": {
     "end_time": "2020-11-29T19:06:14.003672Z",
     "start_time": "2020-11-29T19:02:14.202956Z"
    }
   },
   "outputs": [
    {
     "name": "stdout",
     "output_type": "stream",
     "text": [
      "Done\n"
     ]
    }
   ],
   "source": [
    "for country in countries:\n",
    "    print('Extracting data from {}'.format(country))\n",
    "    dfs_women = [delayed(pd.read_csv)(get_path(country)['women'],\n",
    "                                      encoding='utf-8', sep='\\t',\n",
    "                                      compression='gzip')]\n",
    "    print('Converting to DataFrame {}'.format(country))\n",
    "\n",
    "    try:\n",
    "        df_women = dd.from_delayed(dfs_women)\n",
    "    except CancelledError:\n",
    "        df_women = dd.from_delayed(dfs_women)\n",
    "\n",
    "    print('Repartition {}'.format(country))\n",
    "    df_women = df_women.repartition(npartitions=100)\n",
    "    df_countries_women[country] = df_women\n",
    "\n",
    "    del dfs_women\n",
    "    del df_women\n",
    "\n",
    "clear_output()\n",
    "print('Done')"
   ]
  },
  {
   "cell_type": "markdown",
   "metadata": {},
   "source": [
    "#### 3.2.3 Men"
   ]
  },
  {
   "cell_type": "code",
   "execution_count": 13,
   "metadata": {
    "ExecuteTime": {
     "end_time": "2020-11-29T19:10:16.000061Z",
     "start_time": "2020-11-29T19:06:14.216161Z"
    }
   },
   "outputs": [
    {
     "name": "stdout",
     "output_type": "stream",
     "text": [
      "Done\n"
     ]
    }
   ],
   "source": [
    "for country in countries:\n",
    "    print('Extracting data from {}'.format(country))\n",
    "    dfs_men = [delayed(pd.read_csv)(get_path(country)['men'],\n",
    "                                    encoding='utf-8', sep='\\t',\n",
    "                                    compression='gzip')]\n",
    "    print('Converting to DataFrame {}'.format(country))\n",
    "\n",
    "    try:\n",
    "        df_men = dd.from_delayed(dfs_men)\n",
    "    except CancelledError:\n",
    "        df_men = dd.from_delayed(dfs_men)\n",
    "\n",
    "    print('Repartition {}'.format(country))\n",
    "    df_men = df_men.repartition(npartitions=100)\n",
    "    df_countries_men[country] = df_men\n",
    "\n",
    "    del dfs_men\n",
    "    del df_men\n",
    "\n",
    "clear_output()\n",
    "print('Done')"
   ]
  },
  {
   "cell_type": "markdown",
   "metadata": {},
   "source": [
    "## 4 Data Preprocessing"
   ]
  },
  {
   "cell_type": "markdown",
   "metadata": {},
   "source": [
    "\n",
    "Merge all the datasets per category to compare different countries. We added a new column country and people count to determine the total number of people per 30 sqm and identify which country the row belonged."
   ]
  },
  {
   "cell_type": "code",
   "execution_count": 9,
   "metadata": {
    "ExecuteTime": {
     "end_time": "2020-11-30T08:21:20.483711Z",
     "start_time": "2020-11-30T08:21:20.477279Z"
    }
   },
   "outputs": [],
   "source": [
    "def add_features(df, country):\n",
    "    \"\"\"Return dataframe with required column columns\"\"\"\n",
    "    df = df.copy()\n",
    "    # Group data by 2 degrees\n",
    "    step = 0.2\n",
    "    to_bin = lambda x: np.floor(x / step) * step\n",
    "    df[\"latbin\"] = df.latitude.map(to_bin)\n",
    "    df[\"lonbin\"] = df.longitude.map(to_bin)\n",
    "    df = df.groupby(['latbin', 'lonbin'])['population'].sum().to_frame()\n",
    "    df['country'] = country\n",
    "   \n",
    "    return df"
   ]
  },
  {
   "cell_type": "markdown",
   "metadata": {},
   "source": [
    "### 4.1 Total Population"
   ]
  },
  {
   "cell_type": "code",
   "execution_count": 14,
   "metadata": {
    "ExecuteTime": {
     "end_time": "2020-11-30T08:23:13.714439Z",
     "start_time": "2020-11-30T08:23:13.011396Z"
    }
   },
   "outputs": [],
   "source": [
    "df_total_pop = dd.concat([add_features(ddf, country)\n",
    "                          for country, ddf in df_countries_total_pop.items()],\n",
    "                         axis=0)"
   ]
  },
  {
   "cell_type": "code",
   "execution_count": 15,
   "metadata": {
    "ExecuteTime": {
     "end_time": "2020-11-30T08:27:54.663577Z",
     "start_time": "2020-11-30T08:23:14.239946Z"
    }
   },
   "outputs": [
    {
     "data": {
      "text/plain": [
       "population    15569\n",
       "country       15569\n",
       "dtype: int64"
      ]
     },
     "execution_count": 15,
     "metadata": {},
     "output_type": "execute_result"
    }
   ],
   "source": [
    "df_total_pop.count().compute()"
   ]
  },
  {
   "cell_type": "markdown",
   "metadata": {},
   "source": [
    "### 4.2 Women"
   ]
  },
  {
   "cell_type": "code",
   "execution_count": 16,
   "metadata": {
    "ExecuteTime": {
     "end_time": "2020-11-30T08:27:55.557696Z",
     "start_time": "2020-11-30T08:27:54.970113Z"
    }
   },
   "outputs": [],
   "source": [
    "df_women = dd.concat([add_features(ddf, country)\n",
    "                      for country, ddf in df_countries_women.items()],\n",
    "                     axis=0)"
   ]
  },
  {
   "cell_type": "code",
   "execution_count": 17,
   "metadata": {
    "ExecuteTime": {
     "end_time": "2020-11-30T08:32:35.839928Z",
     "start_time": "2020-11-30T08:27:55.883593Z"
    }
   },
   "outputs": [
    {
     "data": {
      "text/plain": [
       "population    15569\n",
       "country       15569\n",
       "dtype: int64"
      ]
     },
     "execution_count": 17,
     "metadata": {},
     "output_type": "execute_result"
    }
   ],
   "source": [
    "df_women.count().compute()"
   ]
  },
  {
   "cell_type": "markdown",
   "metadata": {},
   "source": [
    "### 4.3 Men"
   ]
  },
  {
   "cell_type": "code",
   "execution_count": 18,
   "metadata": {
    "ExecuteTime": {
     "end_time": "2020-11-30T08:32:36.734876Z",
     "start_time": "2020-11-30T08:32:36.155353Z"
    }
   },
   "outputs": [],
   "source": [
    "df_men = dd.concat([add_features(ddf, country)\n",
    "                    for country, ddf in df_countries_men.items()],\n",
    "                   axis=0)"
   ]
  },
  {
   "cell_type": "code",
   "execution_count": 19,
   "metadata": {
    "ExecuteTime": {
     "end_time": "2020-11-30T08:37:21.753215Z",
     "start_time": "2020-11-30T08:32:37.079146Z"
    }
   },
   "outputs": [
    {
     "data": {
      "text/plain": [
       "population    15569\n",
       "country       15569\n",
       "dtype: int64"
      ]
     },
     "execution_count": 19,
     "metadata": {},
     "output_type": "execute_result"
    }
   ],
   "source": [
    "df_men.count().compute()"
   ]
  },
  {
   "cell_type": "markdown",
   "metadata": {},
   "source": [
    "# 5 Exploratory Data Analysis"
   ]
  },
  {
   "cell_type": "markdown",
   "metadata": {},
   "source": [
    "### 5.1 Men, Women and Overall Population across European Countries"
   ]
  },
  {
   "cell_type": "code",
   "execution_count": 61,
   "metadata": {
    "ExecuteTime": {
     "end_time": "2020-11-30T09:54:55.398290Z",
     "start_time": "2020-11-30T09:40:07.515218Z"
    }
   },
   "outputs": [],
   "source": [
    "total_pop_all = df_total_pop.groupby(['country']).population.sum().compute()\n",
    "total_pop_all.sort_values(inplace=True)\n",
    "total_pop_women = df_women.groupby(['country']).population.sum().compute()\n",
    "total_pop_women.sort_values(inplace=True)\n",
    "total_pop_men = df_men.groupby(['country']).population.sum().compute()\n",
    "total_pop_men.sort_values(inplace=True)"
   ]
  },
  {
   "cell_type": "code",
   "execution_count": 60,
   "metadata": {
    "ExecuteTime": {
     "end_time": "2020-11-30T09:38:29.835972Z",
     "start_time": "2020-11-30T09:38:28.998567Z"
    }
   },
   "outputs": [
    {
     "data": {
      "image/png": "[encoded data removed]",
      "text/plain": [
       "<Figure size 1440x1080 with 3 Axes>"
      ]
     },
     "metadata": {
      "needs_background": "light"
     },
     "output_type": "display_data"
    }
   ],
   "source": [
    "fig1 = plt.figure(constrained_layout=False, figsize=(20, 15))\n",
    "spec1 = gridspec.GridSpec(ncols=2, nrows=2, figure=fig1)\n",
    "\n",
    "ax0 = fig1.add_subplot(spec1[0, :])\n",
    "ax1 = fig1.add_subplot(spec1[1:, 0])\n",
    "ax2 = fig1.add_subplot(spec1[1:, 1:])\n",
    "\n",
    "y_total_pop_all = total_pop_all.index\n",
    "x_total_pop_all = total_pop_all.values\n",
    "\n",
    "y_women = total_pop_women.index\n",
    "x_women = total_pop_women.values\n",
    "\n",
    "y_men = total_pop_men.index\n",
    "x_men = total_pop_men.values\n",
    "\n",
    "# Plot data\n",
    "ax0.barh(y_total_pop_all, x_total_pop_all)\n",
    "ax0.set_title('overall population')\n",
    "ax0.set_ylabel('Country')\n",
    "ax0.set_xlabel('Total population')\n",
    "\n",
    "ax1.barh(y_women, x_women)\n",
    "ax1.set_title('women population')\n",
    "ax1.set_ylabel('Country')\n",
    "ax1.set_xlabel('Total population')\n",
    "\n",
    "ax2.barh(y_men, x_men)\n",
    "ax2.set_title('men population')\n",
    "ax2.set_ylabel('Country')\n",
    "ax2.set_xlabel('Total population')\n",
    "\n",
    "# Change ticks\n",
    "xlabels = [f'{x:.1f}M' for x in ax0.get_xticks()/1e6]\n",
    "ax0.set_xticklabels(xlabels)\n",
    "\n",
    "xlabels = [f'{x:.1f}M' for x in ax1.get_xticks()/1e6]\n",
    "ax1.set_xticklabels(xlabels)\n",
    "\n",
    "xlabels = [f'{x:.1f}M' for x in ax2.get_xticks()/1e6]\n",
    "ax2.set_xticklabels(xlabels)\n",
    "\n",
    "plt.tight_layout(h_pad=3)\n",
    "plt.show()\n",
    "warnings.filterwarnings('ignore')"
   ]
  },
  {
   "cell_type": "markdown",
   "metadata": {},
   "source": [
    "As observed on the figure above (Refer to Fig. ##), Germany (`DEU`)has the highest overall population size across the selected European countries followed by France (`FRA`) and United Kingdom (`GBR`). Germany is considered to be most populated country across the European Union and possess one of the largest economies in the world [9]. In addition, Germany also has the highest men and women population size across the European countries. "
   ]
  },
  {
   "cell_type": "markdown",
   "metadata": {},
   "source": [
    "## 6 Geospatial Analysis"
   ]
  },
  {
   "cell_type": "code",
   "execution_count": 52,
   "metadata": {
    "ExecuteTime": {
     "end_time": "2020-11-30T09:31:33.521776Z",
     "start_time": "2020-11-30T09:31:33.507688Z"
    },
    "code_folding": [
     1,
     80
    ]
   },
   "outputs": [],
   "source": [
    "# Configuration of DEU maps\n",
    "config_deu = {'version': 'v1',\n",
    "              'config': {'visState':\n",
    "                         {'filters': [],\n",
    "                          'layers': [\n",
    "                          {'id': 'jlfb1euw',\n",
    "                           'type': 'heatmap',\n",
    "                           'config': {\n",
    "                               'dataId': 'population',\n",
    "                               'label': 'population',\n",
    "                               'color': [255, 153, 31],\n",
    "                               'columns': {'lat': 'latbin', 'lng': 'lonbin'},\n",
    "                               'isVisible': True,\n",
    "                               'visConfig': {\n",
    "                                   'opacity': 0.8,\n",
    "                                   'colorRange': {\n",
    "                                       'name': 'Uber Viz Diverging 1.5',\n",
    "                                       'type': 'diverging',\n",
    "                                       'category': 'Uber',\n",
    "                                       'colors': ['#00939C',\n",
    "                                                  '#5DBABF',\n",
    "                                                  '#BAE1E2',\n",
    "                                                  '#F8C0AA',\n",
    "                                                  '#DD7755',\n",
    "                                                  '#C22E00']},\n",
    "                                   'radius': 84},\n",
    "                               'hidden': False,\n",
    "                               'textLabel': [{'field': None,\n",
    "                                              'color': [255, 255, 255],\n",
    "                                              'size': 18,\n",
    "                                              'offset': [0, 0],\n",
    "                                              'anchor': 'start',\n",
    "                                              'alignment': 'center'}]},\n",
    "                           'visualChannels': {\n",
    "                               'weightField': {\n",
    "                                   'name': 'population', 'type': 'real'},\n",
    "                               'weightScale': 'linear'}}],\n",
    "                          'interactionConfig': {\n",
    "                          'tooltip': {\n",
    "                              'fieldsToShow': {\n",
    "                                  'population': [{'name': 'latbin',\n",
    "                                                  'format': None},\n",
    "                                                 {'name': 'lonbin',\n",
    "                                                  'format': None},\n",
    "                                                 {'name': 'population',\n",
    "                                                  'format': None}]},\n",
    "                              'compareMode': False,\n",
    "                              'compareType': 'absolute',\n",
    "                              'enabled': True},\n",
    "                             'brush': {'size': 0.5, 'enabled': False},\n",
    "                             'geocoder': {'enabled': False},\n",
    "                             'coordinate': {'enabled': False}},\n",
    "                             'layerBlending': 'normal',\n",
    "                             'splitMaps': [],\n",
    "                             'animationConfig': {\n",
    "                                 'currentTime': None, 'speed': 1}},\n",
    "                         'mapState': {'bearing': 0,\n",
    "                                      'dragRotate': False,\n",
    "                                      'latitude': 51.1,\n",
    "                                      'longitude': 10.4,\n",
    "                                      'pitch': 0,\n",
    "                                      'zoom': 5,\n",
    "                                      'isSplit': False},\n",
    "                         'mapStyle': {\n",
    "                             'styleType': 'light',\n",
    "                             'topLayerGroups': {},\n",
    "                             'visibleLayerGroups': {\n",
    "                                          'label': True,\n",
    "                                          'road': True,\n",
    "                                          'border': False,\n",
    "                                          'building': True,\n",
    "                                          'water': True,\n",
    "                                          'land': True,\n",
    "                                          '3d building': False},\n",
    "                             'threeDBuildingColor': [218.82023004728686,\n",
    "                                                     223.47597962276103,\n",
    "                                                     223.47597962276103],\n",
    "                             'mapStyles': {}}}}\n",
    "\n",
    "# Configuration of maps\n",
    "config_gbr = {'version': 'v1',\n",
    "              'config': {'visState':\n",
    "                         {'filters': [],\n",
    "                          'layers': [\n",
    "                          {'id': 'jlfb1euw',\n",
    "                           'type': 'heatmap',\n",
    "                           'config': {\n",
    "                               'dataId': 'population',\n",
    "                               'label': 'population',\n",
    "                               'color': [255, 153, 31],\n",
    "                               'columns': {'lat': 'latbin', 'lng': 'lonbin'},\n",
    "                               'isVisible': True,\n",
    "                               'visConfig': {\n",
    "                                   'opacity': 0.8,\n",
    "                                   'colorRange': {\n",
    "                                       'name': 'Uber Viz Diverging 1.5',\n",
    "                                       'type': 'diverging',\n",
    "                                       'category': 'Uber',\n",
    "                                       'colors': ['#00939C',\n",
    "                                                  '#5DBABF',\n",
    "                                                  '#BAE1E2',\n",
    "                                                  '#F8C0AA',\n",
    "                                                  '#DD7755',\n",
    "                                                  '#C22E00']},\n",
    "                                   'radius': 84},\n",
    "                               'hidden': False,\n",
    "                               'textLabel': [{'field': None,\n",
    "                                              'color': [255, 255, 255],\n",
    "                                              'size': 18,\n",
    "                                              'offset': [0, 0],\n",
    "                                              'anchor': 'start',\n",
    "                                              'alignment': 'center'}]},\n",
    "                           'visualChannels': {\n",
    "                               'weightField': {\n",
    "                                   'name': 'population', 'type': 'real'},\n",
    "                               'weightScale': 'linear'}}],\n",
    "                          'interactionConfig': {\n",
    "                          'tooltip': {\n",
    "                              'fieldsToShow': {\n",
    "                                  'population': [{'name': 'latbin',\n",
    "                                                  'format': None},\n",
    "                                                 {'name': 'lonbin',\n",
    "                                                  'format': None},\n",
    "                                                 {'name': 'population',\n",
    "                                                  'format': None}]},\n",
    "                              'compareMode': False,\n",
    "                              'compareType': 'absolute',\n",
    "                              'enabled': True},\n",
    "                             'brush': {'size': 0.5, 'enabled': False},\n",
    "                             'geocoder': {'enabled': False},\n",
    "                             'coordinate': {'enabled': False}},\n",
    "                             'layerBlending': 'normal',\n",
    "                             'splitMaps': [],\n",
    "                             'animationConfig': {\n",
    "                                 'currentTime': None, 'speed': 1}},\n",
    "                         'mapState': {'bearing': 0,\n",
    "                                      'dragRotate': False,\n",
    "                                      'latitude': 54.60604517170306,\n",
    "                                      'longitude': -3.819726562499494,\n",
    "                                      'pitch': 0,\n",
    "                                      'zoom': 5,\n",
    "                                      'isSplit': False},\n",
    "                         'mapStyle': {\n",
    "                             'styleType': 'light',\n",
    "                             'topLayerGroups': {},\n",
    "                             'visibleLayerGroups': {\n",
    "                                          'label': True,\n",
    "                                          'road': True,\n",
    "                                          'border': False,\n",
    "                                          'building': True,\n",
    "                                          'water': True,\n",
    "                                          'land': True,\n",
    "                                          '3d building': False},\n",
    "                             'threeDBuildingColor': [218.82023004728686,\n",
    "                                                     223.47597962276103,\n",
    "                                                     223.47597962276103],\n",
    "                             'mapStyles': {}}}}"
   ]
  },
  {
   "cell_type": "code",
   "execution_count": 53,
   "metadata": {
    "ExecuteTime": {
     "end_time": "2020-11-30T09:33:12.805113Z",
     "start_time": "2020-11-30T09:33:12.571804Z"
    },
    "code_folding": [
     0
    ]
   },
   "outputs": [
    {
     "name": "stdout",
     "output_type": "stream",
     "text": [
      "User Guide: https://docs.kepler.gl/docs/keplergl-jupyter\n",
      "Map saved to deu_total_pop.html!\n"
     ]
    }
   ],
   "source": [
    "map_deu = KeplerGl(height=600, width=800, config=config_deu)\n",
    "ddf_deu = add_features(df_countries_total_pop['DEU'],\n",
    "                       'DEU').population.reset_index().persist()\n",
    "gdf_deu = gpd.GeoDataFrame(ddf_deu.compute(),\n",
    "                           geometry=gpd.points_from_xy(\n",
    "                               ddf_deu.lonbin.compute(),\n",
    "                               ddf_deu.latbin.compute()))\n",
    "map_deu.add_data(data=gdf_deu, name=\"population\")\n",
    "map_deu.save_to_html(file_name='deu_total_pop.html')\n",
    "map_deu.close()"
   ]
  },
  {
   "cell_type": "code",
   "execution_count": 54,
   "metadata": {
    "ExecuteTime": {
     "end_time": "2020-11-30T09:33:36.649274Z",
     "start_time": "2020-11-30T09:33:36.408790Z"
    },
    "code_folding": [
     0
    ]
   },
   "outputs": [
    {
     "name": "stdout",
     "output_type": "stream",
     "text": [
      "User Guide: https://docs.kepler.gl/docs/keplergl-jupyter\n",
      "Map saved to deu_women.html!\n"
     ]
    }
   ],
   "source": [
    "map_deu = KeplerGl(height=600, width=800, config=config_deu)\n",
    "ddf_deu = add_features(df_countries_women['DEU'],\n",
    "                       'DEU').population.reset_index().persist()\n",
    "gdf_deu = gpd.GeoDataFrame(ddf_deu.compute(),\n",
    "                           geometry=gpd.points_from_xy(\n",
    "                               ddf_deu.lonbin.compute(),\n",
    "                               ddf_deu.latbin.compute()))\n",
    "map_deu.add_data(data=gdf_deu, name=\"population\")\n",
    "map_deu.save_to_html(file_name='deu_women.html')\n",
    "map_deu.close()"
   ]
  },
  {
   "cell_type": "code",
   "execution_count": 56,
   "metadata": {
    "ExecuteTime": {
     "end_time": "2020-11-30T09:35:14.231371Z",
     "start_time": "2020-11-30T09:34:22.979228Z"
    }
   },
   "outputs": [
    {
     "name": "stdout",
     "output_type": "stream",
     "text": [
      "User Guide: https://docs.kepler.gl/docs/keplergl-jupyter\n",
      "Map saved to deu_men.html!\n"
     ]
    }
   ],
   "source": [
    "map_deu = KeplerGl(height=600, width=800, config=config_deu)\n",
    "ddf_deu = add_features(df_countries_men['DEU'],\n",
    "                       'DEU').population.reset_index().persist()\n",
    "gdf_deu = gpd.GeoDataFrame(ddf_deu.compute(),\n",
    "                           geometry=gpd.points_from_xy(\n",
    "                               ddf_deu.lonbin.compute(),\n",
    "                               ddf_deu.latbin.compute()))\n",
    "map_deu.add_data(data=gdf_deu, name=\"population\")\n",
    "map_deu.save_to_html(file_name='deu_men.html')\n",
    "map_deu.close()"
   ]
  },
  {
   "cell_type": "markdown",
   "metadata": {},
   "source": [
    "### Overall Population in Germany (DEU)"
   ]
  },
  {
   "cell_type": "code",
   "execution_count": 57,
   "metadata": {
    "ExecuteTime": {
     "end_time": "2020-11-30T09:35:41.536375Z",
     "start_time": "2020-11-30T09:35:41.528923Z"
    }
   },
   "outputs": [
    {
     "data": {
      "text/html": [
       "\n",
       "        <iframe\n",
       "            width=\"950\"\n",
       "            height=\"600\"\n",
       "            src=\"deu_total_pop.html\"\n",
       "            frameborder=\"0\"\n",
       "            allowfullscreen\n",
       "        ></iframe>\n",
       "        "
      ],
      "text/plain": [
       "<IPython.lib.display.IFrame at 0x7f86130eb5e0>"
      ]
     },
     "execution_count": 57,
     "metadata": {},
     "output_type": "execute_result"
    }
   ],
   "source": [
    "IFrame(src='deu_total_pop.html', width=950, height=600)"
   ]
  },
  {
   "cell_type": "markdown",
   "metadata": {},
   "source": [
    "As shown in the map above, Berlin has the highest abundance of Facebook users across Germany. The result is expected given that Berlin is the capital of Germany. There is also an abundance of population in the west side of Germany which include the city of Bonn. Bonn is the former capital of Germany. In addition, Munich, Frankfurt and Hamburg also showed an abundance of Facebook users. Frankfurt is considered to be the metropolis and the largest financial centre in the continental Europe [10]. Munich is the third largest city in Germany where its economy is based on the high tech, automobiles and service sector [11]. Lastly, Hamburg is the second largest city in Germany and considered to have the largest port and commercial centre [12]. \n",
    "\n",
    "The German policy mainly focus on the peace and security. Given the abundance of Facebook users in the big cities of Germany, Facebook could serve as a channel for the distribution of information or news in regards to the current security of the area. "
   ]
  },
  {
   "cell_type": "markdown",
   "metadata": {},
   "source": [
    "### Women Population in Germay (DEU)"
   ]
  },
  {
   "cell_type": "code",
   "execution_count": 58,
   "metadata": {
    "ExecuteTime": {
     "end_time": "2020-11-30T09:36:07.756043Z",
     "start_time": "2020-11-30T09:36:07.749934Z"
    }
   },
   "outputs": [
    {
     "data": {
      "text/html": [
       "\n",
       "        <iframe\n",
       "            width=\"950\"\n",
       "            height=\"600\"\n",
       "            src=\"deu_women.html\"\n",
       "            frameborder=\"0\"\n",
       "            allowfullscreen\n",
       "        ></iframe>\n",
       "        "
      ],
      "text/plain": [
       "<IPython.lib.display.IFrame at 0x7f8612143310>"
      ]
     },
     "execution_count": 58,
     "metadata": {},
     "output_type": "execute_result"
    }
   ],
   "source": [
    "IFrame(src='deu_women.html', width=950, height=600)"
   ]
  },
  {
   "cell_type": "markdown",
   "metadata": {},
   "source": [
    "Given that the biggest cities of Germany namely: Frankfurt, Munich, Hamburg and Berlin have the highest abundance of overall population of Facebook users, we could expect the distribution of female Facebook users are also the same case (shown in the map above).  The abudance of Female Facebook users on the specific cities could aid some businesses for their targeted marketing in terms of their products. Advertising of products through Facebook could also be done."
   ]
  },
  {
   "cell_type": "markdown",
   "metadata": {},
   "source": [
    "### Men Population in Germay (DEU)"
   ]
  },
  {
   "cell_type": "code",
   "execution_count": 59,
   "metadata": {
    "ExecuteTime": {
     "end_time": "2020-11-30T09:36:28.906013Z",
     "start_time": "2020-11-30T09:36:28.899870Z"
    }
   },
   "outputs": [
    {
     "data": {
      "text/html": [
       "\n",
       "        <iframe\n",
       "            width=\"950\"\n",
       "            height=\"600\"\n",
       "            src=\"deu_men.html\"\n",
       "            frameborder=\"0\"\n",
       "            allowfullscreen\n",
       "        ></iframe>\n",
       "        "
      ],
      "text/plain": [
       "<IPython.lib.display.IFrame at 0x7f8610547340>"
      ]
     },
     "execution_count": 59,
     "metadata": {},
     "output_type": "execute_result"
    }
   ],
   "source": [
    "IFrame(src='deu_men.html', width=950, height=600)"
   ]
  },
  {
   "cell_type": "markdown",
   "metadata": {},
   "source": [
    "In Germany, the population of women is significantly higher compared to men [13]. This fact is proved based on the differences of the resuting graph between the men and women population. It is evident on the west side of Germany that there is more abundance of women compared to men. One of the pressing challenges faced by the German population is the ageing structure with the slow birth rates [13]."
   ]
  },
  {
   "cell_type": "markdown",
   "metadata": {},
   "source": [
    "# Conclusion"
   ]
  },
  {
   "cell_type": "markdown",
   "metadata": {},
   "source": [
    "Facebook is one of the popular social media platforms and has many users all over the world. The team had explored the distribution of Facebook users across the 24 selected European countries. This study showed that Germany has the highest overall population of Facebook users compared to other European countries. Germany also has the highest population size of men, women, elderly, and youth. One of the pressing challenges of Germany is the aging structure and slow birth rates. This fact is evident in the exploratory data analysis done by the group. Specifically, the United Kingdom has the highest population size of child Facebook users, for it has the highest population growth rate/fertility rate out of all the European countries. \n",
    "\n",
    "Facebook has a varying scope of applications that has an impact on both society and government. The team had determined the distribution of Facebook users across all European countries, which is deemed helpful in spreading information, marketing, advertising, and policy recommendations. "
   ]
  },
  {
   "cell_type": "markdown",
   "metadata": {},
   "source": [
    "# References"
   ]
  },
  {
   "cell_type": "markdown",
   "metadata": {},
   "source": [
    "[1] Salem, Fadi & Mourtada, Rachi. (2011). _Facebook Usage: Factors and Analysis_. Arab Social Media Report.\n",
    "\n",
    "[2]  Boukouvidis, T. (2015). _Four Reasons Facebook Is So Popular_. Retrieved 29 November 2020, from https://www.theodysseyonline.com/four-reasons-facebook-so-popular.\n",
    "\n",
    "[3] Clement, J. (2019). _Facebook: number of users worldwide_. Retrieved 29 November 2020, from https://www.statista.com/statistics/490424/number-of-worldwide-facebook-users/#:~:text=This%20statistic%20shows%20the%20number,from%201.34%20million%20in%202014.\n",
    "\n",
    "[4] _\"Latitude\" vs. \"Longitude\"_. Dictionary.com. (2020). Retrieved 29 November 2020, from https://www.dictionary.com/e/latitude-vs-longitude/.\n",
    "\n",
    "[5]\n",
    "\n",
    "[6]\n",
    "\n",
    "[7]\n",
    "\n",
    "[8]\n",
    "\n",
    "[9] _Overview of Germany_. Retrieved 30 November 2020, from https://www.usnews.com/news/best-countries/germany.\n",
    "\n",
    "[10] _Frankfurt_. En.wikipedia.org. Retrieved 30 November 2020, from https://en.wikipedia.org/wiki/Frankfurt.\n",
    "\n",
    "[11] _Munich_. En.wikipedia.org. Retrieved 30 November 2020, from https://en.wikipedia.org/wiki/Munich.\n",
    "\n",
    "[12] Thomsen, H. _Hamburg | History, Population, Points of Interest, & Facts_. Encyclopedia Britannica. Retrieved 30 November 2020, from https://www.britannica.com/place/Hamburg-Germany.\n",
    "\n",
    "[13] Koptyug, E. (2020). Population by gender Germany 1990-2019. Retrieved 30 November 2020, from https://www.statista.com/statistics/454338/population-by-gender-germany/."
   ]
  },
  {
   "cell_type": "markdown",
   "metadata": {},
   "source": [
    "# Appendices"
   ]
  },
  {
   "cell_type": "markdown",
   "metadata": {},
   "source": [
    "### Appendix A. Running of Instances"
   ]
  },
  {
   "cell_type": "markdown",
   "metadata": {},
   "source": [
    "<img src = \"instances.PNG\">"
   ]
  },
  {
   "cell_type": "markdown",
   "metadata": {},
   "source": [
    "### Appendix B. Client\n",
    "\n",
    "<img src = \"client.PNG\">"
   ]
  },
  {
   "cell_type": "code",
   "execution_count": null,
   "metadata": {},
   "outputs": [],
   "source": []
  }
 ],
 "metadata": {
  "kernelspec": {
   "display_name": "Python 3",
   "language": "python",
   "name": "python3"
  },
  "language_info": {
   "codemirror_mode": {
    "name": "ipython",
    "version": 3
   },
   "file_extension": ".py",
   "mimetype": "text/x-python",
   "name": "python",
   "nbconvert_exporter": "python",
   "pygments_lexer": "ipython3",
   "version": "3.8.2"
  },
  "varInspector": {
   "cols": {
    "lenName": 16,
    "lenType": 16,
    "lenVar": 40
   },
   "kernels_config": {
    "python": {
     "delete_cmd_postfix": "",
     "delete_cmd_prefix": "del ",
     "library": "var_list.py",
     "varRefreshCmd": "print(var_dic_list())"
    },
    "r": {
     "delete_cmd_postfix": ") ",
     "delete_cmd_prefix": "rm(",
     "library": "var_list.r",
     "varRefreshCmd": "cat(var_dic_list()) "
    }
   },
   "types_to_exclude": [
    "module",
    "function",
    "builtin_function_or_method",
    "instance",
    "_Feature"
   ],
   "window_display": false
  }
 },
 "nbformat": 4,
 "nbformat_minor": 4
}

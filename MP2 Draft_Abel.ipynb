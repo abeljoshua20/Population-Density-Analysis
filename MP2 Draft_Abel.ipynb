{
 "cells": [
  {
   "cell_type": "code",
   "execution_count": 2,
   "metadata": {},
   "outputs": [],
   "source": [
    "import dask.dataframe as dd\n",
    "from dask.distributed import Client"
   ]
  },
  {
   "cell_type": "code",
   "execution_count": 3,
   "metadata": {},
   "outputs": [],
   "source": [
    "client = Client('172.31.47.101:8786')"
   ]
  },
  {
   "cell_type": "code",
   "execution_count": 4,
   "metadata": {},
   "outputs": [
    {
     "data": {
      "text/html": [
       "<table style=\"border: 2px solid white;\">\n",
       "<tr>\n",
       "<td style=\"vertical-align: top; border: 0px solid white\">\n",
       "<h3 style=\"text-align: left;\">Client</h3>\n",
       "<ul style=\"text-align: left; list-style: none; margin: 0; padding: 0;\">\n",
       "  <li><b>Scheduler: </b>tcp://172.31.47.101:8786</li>\n",
       "  <li><b>Dashboard: </b><a href='http://172.31.47.101:8787/status' target='_blank'>http://172.31.47.101:8787/status</a></li>\n",
       "</ul>\n",
       "</td>\n",
       "<td style=\"vertical-align: top; border: 0px solid white\">\n",
       "<h3 style=\"text-align: left;\">Cluster</h3>\n",
       "<ul style=\"text-align: left; list-style:none; margin: 0; padding: 0;\">\n",
       "  <li><b>Workers: </b>3</li>\n",
       "  <li><b>Cores: </b>6</li>\n",
       "  <li><b>Memory: </b>25.04 GB</li>\n",
       "</ul>\n",
       "</td>\n",
       "</tr>\n",
       "</table>"
      ],
      "text/plain": [
       "<Client: 'tcp://172.31.47.101:8786' processes=3 threads=6, memory=25.04 GB>"
      ]
     },
     "execution_count": 4,
     "metadata": {},
     "output_type": "execute_result"
    }
   ],
   "source": [
    "client"
   ]
  },
  {
   "cell_type": "code",
   "execution_count": 13,
   "metadata": {
    "scrolled": true
   },
   "outputs": [
    {
     "name": "stdout",
     "output_type": "stream",
     "text": [
      "2020-05-21 05:49:33  165.9 MiB csv/month=2019-06/country=BRA/type=children_under_five/BRA_children_under_five.csv.gz\r\n",
      "2020-05-21 05:49:46  166.0 MiB csv/month=2019-06/country=BRA/type=elderly_60_plus/BRA_elderly_60_plus.csv.gz\r\n",
      "2020-05-21 05:49:57  166.8 MiB csv/month=2019-06/country=BRA/type=men/BRA_men.csv.gz\r\n",
      "2020-05-21 05:50:06  167.1 MiB csv/month=2019-06/country=BRA/type=total_population/BRA_total_population.csv.gz\r\n",
      "2020-05-21 05:50:16  166.8 MiB csv/month=2019-06/country=BRA/type=women/BRA_women.csv.gz\r\n",
      "2020-05-21 05:50:27  166.6 MiB csv/month=2019-06/country=BRA/type=women_of_reproductive_age_15_49/BRA_women_of_reproductive_age_15_49.csv.gz\r\n",
      "2020-05-21 05:50:37  166.0 MiB csv/month=2019-06/country=BRA/type=youth_15_24/BRA_youth_15_24.csv.gz\r\n",
      "\r\n",
      "Total Objects: 7\r\n",
      "   Total Size: 1.1 GiB\r\n"
     ]
    }
   ],
   "source": [
    "!aws s3 ls 's3://dataforgood-fb-data/csv/month=2019-06/country=BRA' --no-sign-request --recursive --human-readable --summarize"
   ]
  },
  {
   "cell_type": "code",
   "execution_count": 18,
   "metadata": {
    "scrolled": true
   },
   "outputs": [
    {
     "name": "stdout",
     "output_type": "stream",
     "text": [
      "2020-05-21 05:56:29  118.9 MiB csv/month=2019-06/country=IDN/type=children_under_five/IDN_children_under_five.csv.gz\r\n",
      "2020-05-21 05:56:40  119.0 MiB csv/month=2019-06/country=IDN/type=elderly_60_plus/IDN_elderly_60_plus.csv.gz\r\n",
      "2020-05-21 05:56:47  119.0 MiB csv/month=2019-06/country=IDN/type=men/IDN_men.csv.gz\r\n",
      "2020-05-21 05:56:55  119.2 MiB csv/month=2019-06/country=IDN/type=total_population/IDN_total_population.csv.gz\r\n",
      "2020-05-21 05:57:01  119.0 MiB csv/month=2019-06/country=IDN/type=women/IDN_women.csv.gz\r\n",
      "2020-05-21 05:57:09  118.9 MiB csv/month=2019-06/country=IDN/type=women_of_reproductive_age_15_49/IDN_women_of_reproductive_age_15_49.csv.gz\r\n",
      "2020-05-21 05:57:17  118.8 MiB csv/month=2019-06/country=IDN/type=youth_15_24/IDN_youth_15_24.csv.gz\r\n",
      "\r\n",
      "Total Objects: 7\r\n",
      "   Total Size: 832.7 MiB\r\n"
     ]
    }
   ],
   "source": [
    "!aws s3 ls 's3://dataforgood-fb-data/csv/month=2019-06/country=IDN' --no-sign-request --recursive --human-readable --summarize"
   ]
  },
  {
   "cell_type": "code",
   "execution_count": 12,
   "metadata": {
    "scrolled": true
   },
   "outputs": [
    {
     "name": "stdout",
     "output_type": "stream",
     "text": [
      "2020-05-21 06:08:10  886.7 MiB csv/month=2019-06/country=USA/type=children_under_five/USA_children_under_five.csv.gz\r\n",
      "2020-05-21 06:08:10  903.7 MiB csv/month=2019-06/country=USA/type=elderly_60_plus/USA_elderly_60_plus.csv.gz\r\n",
      "2020-05-21 06:08:10  913.1 MiB csv/month=2019-06/country=USA/type=men/USA_men.csv.gz\r\n",
      "2020-05-21 06:08:26  917.3 MiB csv/month=2019-06/country=USA/type=total_population/USA_total_population.csv.gz\r\n",
      "2020-05-21 06:08:34  913.2 MiB csv/month=2019-06/country=USA/type=women/USA_women.csv.gz\r\n",
      "2020-05-21 06:12:28  905.0 MiB csv/month=2019-06/country=USA/type=women_of_reproductive_age_15_49/USA_women_of_reproductive_age_15_49.csv.gz\r\n",
      "2020-05-21 06:12:31  896.7 MiB csv/month=2019-06/country=USA/type=youth_15_24/USA_youth_15_24.csv.gz\r\n",
      "\r\n",
      "Total Objects: 7\r\n",
      "   Total Size: 6.2 GiB\r\n"
     ]
    }
   ],
   "source": [
    "!aws s3 ls 's3://dataforgood-fb-data/csv/month=2019-06/country=USA' --no-sign-request --recursive --human-readable --summarize"
   ]
  },
  {
   "cell_type": "code",
   "execution_count": 5,
   "metadata": {},
   "outputs": [],
   "source": [
    "def get_path(country):\n",
    "    \"\"\"Return country CSV path\"\"\"\n",
    "    return dict(total_pop=('s3://dataforgood-fb-data/csv/month=2019-06'\n",
    "                           f'/country={country}/type=total_population'\n",
    "                           f'/{country}_total_population.csv.gz'),\n",
    "                child=('s3://dataforgood-fb-data/csv/month=2019-06'\n",
    "                             f'/country={country}/type=children_under_five'\n",
    "                             f'/{country}_children_under_five.csv.gz'),\n",
    "                elder=('s3://dataforgood-fb-data/csv/month=2019-06'\n",
    "                               f'/country={country}/type=elderly_60_plus'\n",
    "                               f'/{country}_elderly_60_plus.csv.gz'),\n",
    "                men=('s3://dataforgood-fb-data/csv/month=2019-06'\n",
    "                     f'/country={country}/type=men'\n",
    "                     f'/{country}_men.csv.gz'),\n",
    "                women=('s3://dataforgood-fb-data/csv/month=2019-06'\n",
    "                       f'/country={country}/type=women'\n",
    "                       f'/{country}_women.csv.gz'),\n",
    "                reprod=('s3://dataforgood-fb-data/csv/month=2019-06'\n",
    "                        f'/country={country}'\n",
    "                        '/type=women_of_reproductive_age_15_49'\n",
    "                        f'/{country}_women_of_'\n",
    "                        'reproductive_age_15_49.csv.gz'),\n",
    "                youth=('s3://dataforgood-fb-data/csv/month=2019-06'\n",
    "                        f'/country={country}/type=youth_15_24'\n",
    "                        f'/{country}_youth_15_24')\n",
    "            )"
   ]
  },
  {
   "cell_type": "code",
   "execution_count": 6,
   "metadata": {},
   "outputs": [
    {
     "name": "stderr",
     "output_type": "stream",
     "text": [
      "/opt/conda/lib/python3.8/site-packages/dask/dataframe/io/csv.py:462: UserWarning: Warning gzip compression does not support breaking apart files\n",
      "Please ensure that each individual file can fit in memory and\n",
      "use the keyword ``blocksize=None to remove this message``\n",
      "Setting ``blocksize=None``\n",
      "  warn(\n"
     ]
    }
   ],
   "source": [
    "ddf_total_pop = dd.read_csv(get_path('USA')['total_pop'], encoding='utf-8',\n",
    "                            sep='\\t', compression='gzip')"
   ]
  },
  {
   "cell_type": "code",
   "execution_count": null,
   "metadata": {},
   "outputs": [],
   "source": [
    "ddf_total_pop.head()"
   ]
  }
 ],
 "metadata": {
  "kernelspec": {
   "display_name": "Python 3",
   "language": "python",
   "name": "python3"
  },
  "language_info": {
   "codemirror_mode": {
    "name": "ipython",
    "version": 3
   },
   "file_extension": ".py",
   "mimetype": "text/x-python",
   "name": "python",
   "nbconvert_exporter": "python",
   "pygments_lexer": "ipython3",
   "version": "3.8.5"
  }
 },
 "nbformat": 4,
 "nbformat_minor": 4
}

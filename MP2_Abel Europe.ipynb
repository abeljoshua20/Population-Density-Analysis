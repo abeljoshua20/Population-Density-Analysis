{
 "cells": [
  {
   "cell_type": "code",
   "execution_count": 133,
   "metadata": {
    "ExecuteTime": {
     "end_time": "2020-11-29T07:52:39.907434Z",
     "start_time": "2020-11-29T07:52:39.902733Z"
    }
   },
   "outputs": [],
   "source": [
    "import matplotlib.pyplot as plt\n",
    "import seaborn as sns\n",
    "import pandas as pd\n",
    "import matplotlib as mpl\n",
    "import dask.dataframe as dd\n",
    "import warnings\n",
    "from asyncio import CancelledError\n",
    "from dask.delayed import delayed\n",
    "from dask.distributed import Client\n",
    "from cycler import cycler\n",
    "from IPython.display import clear_output"
   ]
  },
  {
   "cell_type": "code",
   "execution_count": 2,
   "metadata": {
    "ExecuteTime": {
     "end_time": "2020-11-29T06:05:24.267093Z",
     "start_time": "2020-11-29T06:05:24.260731Z"
    }
   },
   "outputs": [],
   "source": [
    "default_colors = ['#00c6ff', '#0078ff', '#dd2a7b']\n",
    "mpl.rcParams['axes.prop_cycle'] = cycler('color', default_colors)\n",
    "plt.rcParams['axes.labelsize'] = 20\n",
    "plt.rcParams['axes.titlesize'] = 18\n",
    "plt.rcParams['axes.titleweight'] = 'bold'\n",
    "plt.rcParams['figure.titlesize'] = 22\n",
    "plt.rcParams['xtick.labelsize'] = 10\n",
    "plt.rcParams['ytick.labelsize'] = 10\n",
    "plt.rcParams['legend.fontsize'] = 10\n",
    "plt.rcParams['legend.title_fontsize'] = 18\n",
    "\n",
    "# pd.set_option('display.max_colwidth', None)"
   ]
  },
  {
   "cell_type": "markdown",
   "metadata": {},
   "source": [
    "# Methodology"
   ]
  },
  {
   "cell_type": "markdown",
   "metadata": {},
   "source": [
    "In exploring dataset for this report, the group analyzed a high population density dataset amounting to a total of over 8.12Gb. In order to handle this amount of memory, the group used distributed dask clustering to handle a big amount of data surpassing the capability of the local machine/client's memory. The general workflow for the formation of this report is shown in the figure below.\n",
    "\n",
    "1. Data Extraction\n",
    "2. Data Processing\n",
    "3. Exploratory Data Analysis\n"
   ]
  },
  {
   "cell_type": "markdown",
   "metadata": {},
   "source": [
    "<center><strong>Fig.## Methodology </strong></center>"
   ]
  },
  {
   "cell_type": "markdown",
   "metadata": {},
   "source": [
    "# Data Description"
   ]
  },
  {
   "cell_type": "markdown",
   "metadata": {},
   "source": [
    "# Data Extraction"
   ]
  },
  {
   "cell_type": "markdown",
   "metadata": {},
   "source": []
  },
  {
   "cell_type": "markdown",
   "metadata": {},
   "source": [
    "## Dask Distributed Cluster"
   ]
  },
  {
   "cell_type": "code",
   "execution_count": 13,
   "metadata": {
    "ExecuteTime": {
     "end_time": "2020-11-29T06:12:06.006419Z",
     "start_time": "2020-11-29T06:12:05.993340Z"
    }
   },
   "outputs": [],
   "source": [
    "client = Client('172.31.47.101:8786')"
   ]
  },
  {
   "cell_type": "code",
   "execution_count": 14,
   "metadata": {
    "ExecuteTime": {
     "end_time": "2020-11-29T06:12:06.019509Z",
     "start_time": "2020-11-29T06:12:06.010423Z"
    }
   },
   "outputs": [
    {
     "data": {
      "text/html": [
       "<table style=\"border: 2px solid white;\">\n",
       "<tr>\n",
       "<td style=\"vertical-align: top; border: 0px solid white\">\n",
       "<h3 style=\"text-align: left;\">Client</h3>\n",
       "<ul style=\"text-align: left; list-style: none; margin: 0; padding: 0;\">\n",
       "  <li><b>Scheduler: </b>tcp://172.31.47.101:8786</li>\n",
       "  <li><b>Dashboard: </b><a href='http://172.31.47.101:8787/status' target='_blank'>http://172.31.47.101:8787/status</a></li>\n",
       "</ul>\n",
       "</td>\n",
       "<td style=\"vertical-align: top; border: 0px solid white\">\n",
       "<h3 style=\"text-align: left;\">Cluster</h3>\n",
       "<ul style=\"text-align: left; list-style:none; margin: 0; padding: 0;\">\n",
       "  <li><b>Workers: </b>3</li>\n",
       "  <li><b>Cores: </b>6</li>\n",
       "  <li><b>Memory: </b>25.04 GB</li>\n",
       "</ul>\n",
       "</td>\n",
       "</tr>\n",
       "</table>"
      ],
      "text/plain": [
       "<Client: 'tcp://172.31.47.101:8786' processes=3 threads=6, memory=25.04 GB>"
      ]
     },
     "execution_count": 14,
     "metadata": {},
     "output_type": "execute_result"
    }
   ],
   "source": [
    "client"
   ]
  },
  {
   "cell_type": "code",
   "execution_count": 21,
   "metadata": {
    "ExecuteTime": {
     "end_time": "2020-11-29T06:21:53.923141Z",
     "start_time": "2020-11-29T06:21:53.918533Z"
    }
   },
   "outputs": [],
   "source": [
    "def get_path(country):\n",
    "    \"\"\"Return country CSV S3 path\"\"\"\n",
    "    return dict(total_pop=('s3://dataforgood-fb-data/csv/month=2019-06'\n",
    "                           f'/country={country}/type=total_population'\n",
    "                           f'/{country}_total_population.csv.gz'),\n",
    "                child=('s3://dataforgood-fb-data/csv/month=2019-06'\n",
    "                             f'/country={country}/type=children_under_five'\n",
    "                             f'/{country}_children_under_five.csv.gz'),\n",
    "                elder=('s3://dataforgood-fb-data/csv/month=2019-06'\n",
    "                               f'/country={country}/type=elderly_60_plus'\n",
    "                               f'/{country}_elderly_60_plus.csv.gz'),\n",
    "                men=('s3://dataforgood-fb-data/csv/month=2019-06'\n",
    "                     f'/country={country}/type=men'\n",
    "                     f'/{country}_men.csv.gz'),\n",
    "                women=('s3://dataforgood-fb-data/csv/month=2019-06'\n",
    "                       f'/country={country}/type=women'\n",
    "                       f'/{country}_women.csv.gz'),\n",
    "                reprod=('s3://dataforgood-fb-data/csv/month=2019-06'\n",
    "                        f'/country={country}'\n",
    "                        '/type=women_of_reproductive_age_15_49'\n",
    "                        f'/{country}_women_of_'\n",
    "                        'reproductive_age_15_49.csv.gz'),\n",
    "                youth=('s3://dataforgood-fb-data/csv/month=2019-06'\n",
    "                        f'/country={country}/type=youth_15_24'\n",
    "                        f'/{country}_youth_15_24.csv.gz')\n",
    "            )"
   ]
  },
  {
   "cell_type": "code",
   "execution_count": 16,
   "metadata": {
    "ExecuteTime": {
     "end_time": "2020-11-29T06:13:09.244382Z",
     "start_time": "2020-11-29T06:13:09.240102Z"
    },
    "code_folding": [
     1
    ]
   },
   "outputs": [],
   "source": [
    "# List of countries to analyze\n",
    "countries = ['DEU',\n",
    "             'GBR',\n",
    "             'FRA',\n",
    "             'ITA',\n",
    "             'ESP',\n",
    "             'PRT',\n",
    "             'CHE',\n",
    "             'GRC',\n",
    "             'NLD',\n",
    "             'POL',\n",
    "             'BEL',\n",
    "             'AUT',\n",
    "             'ISL',\n",
    "             'HRV',\n",
    "             'CZE',\n",
    "             'ROU',\n",
    "             'UKR',\n",
    "             'HUN',\n",
    "             'ALB',\n",
    "             'SVK',\n",
    "             'MNE',\n",
    "             'MDA',\n",
    "             'SRB',\n",
    "             'BLR']"
   ]
  },
  {
   "cell_type": "code",
   "execution_count": 17,
   "metadata": {
    "ExecuteTime": {
     "end_time": "2020-11-29T06:13:11.201163Z",
     "start_time": "2020-11-29T06:13:11.195995Z"
    }
   },
   "outputs": [],
   "source": [
    "df_countries_child = dict()\n",
    "df_countries_youth = dict()\n",
    "df_countries_elder = dict()"
   ]
  },
  {
   "cell_type": "markdown",
   "metadata": {},
   "source": [
    "## Child"
   ]
  },
  {
   "cell_type": "code",
   "execution_count": 50,
   "metadata": {
    "ExecuteTime": {
     "end_time": "2020-11-29T06:51:50.254502Z",
     "start_time": "2020-11-29T06:51:19.855846Z"
    },
    "scrolled": true
   },
   "outputs": [
    {
     "name": "stdout",
     "output_type": "stream",
     "text": [
      "Done\n"
     ]
    }
   ],
   "source": [
    "for country in countries:\n",
    "    print('Extracting data from {}'.format(country))\n",
    "    dfs_child = [delayed(pd.read_csv)(get_path(country)['child'],\n",
    "                                     encoding='utf-8', sep='\\t',\n",
    "                                     compression='gzip')]\n",
    "    print('Converting to DataFrame {}'.format(country))\n",
    "    \n",
    "    try:\n",
    "        df_child = dd.from_delayed(dfs_child)\n",
    "    except CancelledError:\n",
    "        df_child = dd.from_delayed(dfs_child)\n",
    "        \n",
    "    print('Repartition {}'.format(country))\n",
    "    df_child = df_child.repartition(npartitions=100)\n",
    "    df_countries_child[country] = df_child\n",
    "    del dfs_child\n",
    "    del df_child\n",
    "clear_output()\n",
    "print('Done')"
   ]
  },
  {
   "cell_type": "markdown",
   "metadata": {},
   "source": [
    "## Youth"
   ]
  },
  {
   "cell_type": "code",
   "execution_count": 30,
   "metadata": {
    "ExecuteTime": {
     "end_time": "2020-11-29T06:32:25.189966Z",
     "start_time": "2020-11-29T06:32:25.182056Z"
    },
    "code_folding": []
   },
   "outputs": [
    {
     "name": "stdout",
     "output_type": "stream",
     "text": [
      "Done\n"
     ]
    }
   ],
   "source": [
    "for country in countries:\n",
    "    print('Extracting data from {}'.format(country))\n",
    "    dfs_youth = [delayed(pd.read_csv)(get_path(country)['youth'],\n",
    "                                     encoding='utf-8', sep='\\t',\n",
    "                                     compression='gzip')]\n",
    "    print('Converting to DataFrame {}'.format(country))\n",
    "    \n",
    "    try:\n",
    "        df_youth = dd.from_delayed(dfs_youth)\n",
    "    except CancelledError:\n",
    "        df_youth = dd.from_delayed(dfs_youth)\n",
    "        \n",
    "    print('Repartition {}'.format(country))\n",
    "    df_youth = df_youth.repartition(npartitions=100)\n",
    "    df_countries_youth[country] = df_youth\n",
    "    del dfs_youth\n",
    "    del df_youth\n",
    "clear_output()\n",
    "print('Done')"
   ]
  },
  {
   "cell_type": "markdown",
   "metadata": {},
   "source": [
    "## Elder"
   ]
  },
  {
   "cell_type": "code",
   "execution_count": 32,
   "metadata": {
    "ExecuteTime": {
     "end_time": "2020-11-29T06:36:44.216669Z",
     "start_time": "2020-11-29T06:32:45.622149Z"
    },
    "code_folding": [],
    "scrolled": true
   },
   "outputs": [
    {
     "name": "stdout",
     "output_type": "stream",
     "text": [
      "Done\n"
     ]
    }
   ],
   "source": [
    "for country in countries:\n",
    "    print('Extracting data from {}'.format(country))\n",
    "    dfs_elder = [delayed(pd.read_csv)(get_path(country)['elder'],\n",
    "                                     encoding='utf-8', sep='\\t',\n",
    "                                     compression='gzip')]\n",
    "    print('Converting to DataFrame {}'.format(country))\n",
    "    \n",
    "    try:\n",
    "        df_elder = dd.from_delayed(dfs_elder)\n",
    "    except CancelledError:\n",
    "        df_elder = dd.from_delayed(dfs_elder)\n",
    "        \n",
    "    print('Repartition {}'.format(country))\n",
    "    df_elder = df_elder.repartition(npartitions=100)\n",
    "    df_countries_elder[country] = df_elder\n",
    "    del dfs_elder\n",
    "    del df_elder\n",
    "clear_output()\n",
    "print('Done')"
   ]
  },
  {
   "cell_type": "markdown",
   "metadata": {},
   "source": [
    "# Data Preprocessing"
   ]
  },
  {
   "cell_type": "markdown",
   "metadata": {},
   "source": [
    "Merge all the datasets per category to compare different countries. We added a new column country and people count to determine the total number of people per 30 sqm and identify which country the row belonged."
   ]
  },
  {
   "cell_type": "code",
   "execution_count": 84,
   "metadata": {
    "ExecuteTime": {
     "end_time": "2020-11-29T07:25:00.274053Z",
     "start_time": "2020-11-29T07:25:00.269343Z"
    }
   },
   "outputs": [],
   "source": [
    "def add_features(df, country):\n",
    "    \"\"\"Return dataframe with required column columns\"\"\"\n",
    "    df = df.copy()\n",
    "    df['country'] = country\n",
    "    # Population density with 30 sqm\n",
    "    df['people_count'] = df['population'].apply(lambda x: int(x*30),\n",
    "                                                meta=('population', 'int64'))\n",
    "    return df"
   ]
  },
  {
   "cell_type": "markdown",
   "metadata": {},
   "source": [
    "## Child"
   ]
  },
  {
   "cell_type": "code",
   "execution_count": 85,
   "metadata": {
    "ExecuteTime": {
     "end_time": "2020-11-29T07:25:00.627446Z",
     "start_time": "2020-11-29T07:25:00.275787Z"
    }
   },
   "outputs": [],
   "source": [
    "df_child = dd.concat([add_features(ddf, country)\n",
    "                      for country, ddf in df_countries_child.items()],\n",
    "                     axis=0)"
   ]
  },
  {
   "cell_type": "code",
   "execution_count": 86,
   "metadata": {
    "ExecuteTime": {
     "end_time": "2020-11-29T07:27:11.394976Z",
     "start_time": "2020-11-29T07:25:00.629420Z"
    }
   },
   "outputs": [
    {
     "data": {
      "text/plain": [
       "latitude        229182034\n",
       "longitude       229182034\n",
       "population      229182034\n",
       "country         229182034\n",
       "people_count    229182034\n",
       "dtype: int64"
      ]
     },
     "execution_count": 86,
     "metadata": {},
     "output_type": "execute_result"
    }
   ],
   "source": [
    "df_child.count().compute()"
   ]
  },
  {
   "cell_type": "markdown",
   "metadata": {},
   "source": [
    "## Youth"
   ]
  },
  {
   "cell_type": "code",
   "execution_count": 87,
   "metadata": {
    "ExecuteTime": {
     "end_time": "2020-11-29T07:27:11.751081Z",
     "start_time": "2020-11-29T07:27:11.399042Z"
    }
   },
   "outputs": [],
   "source": [
    "df_youth = dd.concat([add_features(ddf, country)\n",
    "                      for country, ddf in df_countries_youth.items()],\n",
    "                     axis=0)"
   ]
  },
  {
   "cell_type": "code",
   "execution_count": 88,
   "metadata": {
    "ExecuteTime": {
     "end_time": "2020-11-29T07:29:11.806129Z",
     "start_time": "2020-11-29T07:27:11.752827Z"
    }
   },
   "outputs": [
    {
     "data": {
      "text/plain": [
       "latitude        229182034\n",
       "longitude       229182034\n",
       "population      229182034\n",
       "country         229182034\n",
       "people_count    229182034\n",
       "dtype: int64"
      ]
     },
     "execution_count": 88,
     "metadata": {},
     "output_type": "execute_result"
    }
   ],
   "source": [
    "df_youth.count().compute()"
   ]
  },
  {
   "cell_type": "markdown",
   "metadata": {},
   "source": [
    "## Elder"
   ]
  },
  {
   "cell_type": "code",
   "execution_count": 89,
   "metadata": {
    "ExecuteTime": {
     "end_time": "2020-11-29T07:29:12.164686Z",
     "start_time": "2020-11-29T07:29:11.807765Z"
    }
   },
   "outputs": [],
   "source": [
    "df_elder = dd.concat([add_features(ddf, country)\n",
    "                      for country, ddf in df_countries_elder.items()],\n",
    "                     axis=0)"
   ]
  },
  {
   "cell_type": "code",
   "execution_count": 90,
   "metadata": {
    "ExecuteTime": {
     "end_time": "2020-11-29T07:32:13.853488Z",
     "start_time": "2020-11-29T07:29:12.166400Z"
    }
   },
   "outputs": [
    {
     "data": {
      "text/plain": [
       "latitude        229182034\n",
       "longitude       229182034\n",
       "population      229182034\n",
       "country         229182034\n",
       "people_count    229182034\n",
       "dtype: int64"
      ]
     },
     "execution_count": 90,
     "metadata": {},
     "output_type": "execute_result"
    }
   ],
   "source": [
    "df_elder.count().compute()"
   ]
  },
  {
   "cell_type": "markdown",
   "metadata": {},
   "source": [
    "# Exploratory Data Analysis"
   ]
  },
  {
   "cell_type": "markdown",
   "metadata": {},
   "source": [
    "## Child"
   ]
  },
  {
   "cell_type": "code",
   "execution_count": 103,
   "metadata": {
    "ExecuteTime": {
     "end_time": "2020-11-29T07:43:24.219299Z",
     "start_time": "2020-11-29T07:41:19.690859Z"
    }
   },
   "outputs": [],
   "source": [
    "total_pop = df_child.groupby(['country']).people_count.sum().compute()\n",
    "total_pop.sort_values(inplace=True)"
   ]
  },
  {
   "cell_type": "code",
   "execution_count": 141,
   "metadata": {
    "ExecuteTime": {
     "end_time": "2020-11-29T07:55:45.111846Z",
     "start_time": "2020-11-29T07:55:44.837547Z"
    }
   },
   "outputs": [
    {
     "data": {
      "image/png": "[encoded data removed]",
      "text/plain": [
       "<Figure size 864x504 with 1 Axes>"
      ]
     },
     "metadata": {
      "needs_background": "light"
     },
     "output_type": "display_data"
    }
   ],
   "source": [
    "plt.figure(figsize=(12, 7))\n",
    "y = total_pop.index\n",
    "x = total_pop.values\n",
    "# Plot data\n",
    "plt.barh(y, x)\n",
    "plt.title('UK, FRA, DEU have the highest child population in Europe')\n",
    "plt.ylabel('Country')\n",
    "plt.xlabel('Total population')\n",
    "\n",
    "# Change ticks\n",
    "ax = plt.gca()\n",
    "xlabels = [f'{x:.1f}M' for x in ax.get_xticks()/1e6]\n",
    "ax.set_xticklabels(xlabels)\n",
    "plt.show()\n",
    "warnings.filterwarnings('ignore')"
   ]
  },
  {
   "cell_type": "markdown",
   "metadata": {},
   "source": [
    "## Youth"
   ]
  },
  {
   "cell_type": "code",
   "execution_count": null,
   "metadata": {
    "ExecuteTime": {
     "start_time": "2020-11-29T07:56:49.928Z"
    }
   },
   "outputs": [],
   "source": [
    "total_pop = df_youth.groupby(['country']).people_count.sum().compute()\n",
    "total_pop.sort_values(inplace=True)"
   ]
  },
  {
   "cell_type": "code",
   "execution_count": null,
   "metadata": {
    "ExecuteTime": {
     "start_time": "2020-11-29T07:56:49.930Z"
    }
   },
   "outputs": [],
   "source": [
    "plt.figure(figsize=(12, 7))\n",
    "y = total_pop.index\n",
    "x = total_pop.values\n",
    "# Plot data\n",
    "plt.barh(y, x)\n",
    "# plt.title('UK, FRA, DEU have the highest youth population(15 to 24 yrs.) in Europe')\n",
    "plt.ylabel('Country')\n",
    "plt.xlabel('Total population')\n",
    "\n",
    "# Change ticks\n",
    "ax = plt.gca()\n",
    "xlabels = [f'{x:.1f}M' for x in ax.get_xticks()/1e6]\n",
    "ax.set_xticklabels(xlabels)\n",
    "plt.show()\n",
    "warnings.filterwarnings('ignore')"
   ]
  },
  {
   "cell_type": "code",
   "execution_count": null,
   "metadata": {},
   "outputs": [],
   "source": []
  }
 ],
 "metadata": {
  "kernelspec": {
   "display_name": "Python 3",
   "language": "python",
   "name": "python3"
  },
  "language_info": {
   "codemirror_mode": {
    "name": "ipython",
    "version": 3
   },
   "file_extension": ".py",
   "mimetype": "text/x-python",
   "name": "python",
   "nbconvert_exporter": "python",
   "pygments_lexer": "ipython3",
   "version": "3.8.5"
  },
  "toc": {
   "base_numbering": 1,
   "nav_menu": {},
   "number_sections": true,
   "sideBar": true,
   "skip_h1_title": false,
   "title_cell": "Table of Contents",
   "title_sidebar": "Contents",
   "toc_cell": false,
   "toc_position": {},
   "toc_section_display": true,
   "toc_window_display": false
  },
  "varInspector": {
   "cols": {
    "lenName": 16,
    "lenType": 16,
    "lenVar": 40
   },
   "kernels_config": {
    "python": {
     "delete_cmd_postfix": "",
     "delete_cmd_prefix": "del ",
     "library": "var_list.py",
     "varRefreshCmd": "print(var_dic_list())"
    },
    "r": {
     "delete_cmd_postfix": ") ",
     "delete_cmd_prefix": "rm(",
     "library": "var_list.r",
     "varRefreshCmd": "cat(var_dic_list()) "
    }
   },
   "position": {
    "height": "429px",
    "left": "1565px",
    "right": "20px",
    "top": "123px",
    "width": "350px"
   },
   "types_to_exclude": [
    "module",
    "function",
    "builtin_function_or_method",
    "instance",
    "_Feature"
   ],
   "window_display": false
  }
 },
 "nbformat": 4,
 "nbformat_minor": 4
}
